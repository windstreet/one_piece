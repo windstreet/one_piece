{
 "cells": [
  {
   "cell_type": "code",
   "execution_count": 3,
   "metadata": {},
   "outputs": [
    {
     "name": "stdout",
     "output_type": "stream",
     "text": [
      "[[3.]\n",
      " [2.]\n",
      " [1.]]\n",
      "迭代次数为:  16\n",
      "[[2.99999999]\n",
      " [1.99999975]\n",
      " [0.99999987]]\n"
     ]
    },
    {
     "data": {
      "image/png": "[encoded data removed]",
      "text/plain": [
       "<Figure size 432x288 with 1 Axes>"
      ]
     },
     "metadata": {
      "needs_background": "light"
     },
     "output_type": "display_data"
    }
   ],
   "source": [
    "import numpy as np\n",
    "import matplotlib.pyplot as plt\n",
    "\n",
    "# 求原方程的精确解\n",
    "A = np.matrix([[8, -3, 2], [4, 11, -1], [6, 3, 12]])\n",
    "b = np.matrix([20, 33, 36])\n",
    "result = np.linalg.solve(A, b.T)\n",
    "print(result) \n",
    "\n",
    "# 迭代法求方程的解\n",
    "B0 = np.matrix([\n",
    "    [0, 3.0/8.0, -2.0/8.0], \n",
    "    [-4.0/11.0, 0, 1.0/11.0],\n",
    "    [-6.0/12.0, -3.0/12.0, 0] \n",
    "    ])\n",
    "f = np.matrix([20.0/8.0, 33/11, 36/12])\n",
    "\n",
    "e = 0.000001\n",
    "errorlist = []\n",
    "times = 100\n",
    "\n",
    "x = np.zeros((3, 1))\n",
    "\n",
    "for k in range(times):\n",
    "    temp = x\n",
    "    x = np.dot(B0, x) + f.T  # 严格按照矩阵的运算格式来书写\n",
    "    errorlist.append(np.linalg.norm(x - temp))\n",
    "    if errorlist[-1] < e:  # 误差小于阈值时，结束\n",
    "        times = k + 1\n",
    "        print('迭代次数为: ', times)\n",
    "        break\n",
    "\n",
    "print(x)\n",
    "\n",
    "# 画出误差图，横坐标代表迭代次数\n",
    "time = np.arange(times)\n",
    "plt.plot(time, errorlist, 'b')\n",
    "plt.show()"
   ]
  },
  {
   "cell_type": "code",
   "execution_count": null,
   "metadata": {},
   "outputs": [],
   "source": []
  }
 ],
 "metadata": {
  "kernelspec": {
   "display_name": "Python 3",
   "language": "python",
   "name": "python3"
  },
  "language_info": {
   "codemirror_mode": {
    "name": "ipython",
    "version": 3
   },
   "file_extension": ".py",
   "mimetype": "text/x-python",
   "name": "python",
   "nbconvert_exporter": "python",
   "pygments_lexer": "ipython3",
   "version": "3.7.3"
  }
 },
 "nbformat": 4,
 "nbformat_minor": 2
}
