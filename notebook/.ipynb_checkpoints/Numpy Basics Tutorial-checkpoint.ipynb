{
 "cells": [
  {
   "cell_type": "code",
   "execution_count": 1,
   "metadata": {},
   "outputs": [
    {
     "name": "stdout",
     "output_type": "stream",
     "text": [
      "[89.   56.34 76.   89.   98.  ]\n",
      "float64\n"
     ]
    }
   ],
   "source": [
    "# 参考： https://nbviewer.jupyter.org/gist/manujeevanprakash/7e47301f0b50a98232ca\n",
    "\n",
    "\"\"\"1）创建数组\"\"\"\n",
    "\n",
    "\"\"\"1.1）使用数组函数: numpy.array() \"\"\"\n",
    "\n",
    "import numpy as np\n",
    "\n",
    "scores = [89, 56.34, 76, 89, 98]\n",
    "first_arr =np.array(scores)\n",
    "print(first_arr)\n",
    "print(first_arr.dtype)  # .dtype（dtype属性）返回：数组对象的数据类型"
   ]
  },
  {
   "cell_type": "code",
   "execution_count": 2,
   "metadata": {},
   "outputs": [
    {
     "name": "stdout",
     "output_type": "stream",
     "text": [
      "[[34 56 23 89]\n",
      " [11 45 76 34]]\n",
      "2\n",
      "(2, 4)\n",
      "int64\n"
     ]
    }
   ],
   "source": [
    "# 长度相等嵌套列表，将被转换成一个多维数组\n",
    "\n",
    "scores_1 = [[34,56,23,89], [11,45,76,34]]\n",
    "second_arr = np.array(scores_1)\n",
    "print(second_arr)\n",
    "print(second_arr.ndim)  # .ndim（ndim 属性）返回：数组的维度。  N-Dimensional: n维（n行）。\n",
    "print(second_arr.shape) # （行数，列数）。 2 X 4 矩阵。 \n",
    "print(second_arr.dtype) "
   ]
  },
  {
   "cell_type": "code",
   "execution_count": 3,
   "metadata": {},
   "outputs": [
    {
     "name": "stdout",
     "output_type": "stream",
     "text": [
      "x: [0. 0. 0. 0. 0. 0. 0. 0. 0. 0.]\n",
      "y: [1. 1. 1. 1. 1. 1. 1. 1. 1. 1.]\n"
     ]
    }
   ],
   "source": [
    "\"\"\"1.2）使用数组函数: numpy.zeros(),  numpy.ones() \"\"\"\n",
    "\n",
    "\n",
    "x = np.zeros(10) # 返回一个零数组\n",
    "print('x:', x)\n",
    "\n",
    "y = np.ones(10)  # 返回一个 1 数组\n",
    "print('y:', y)"
   ]
  },
  {
   "cell_type": "code",
   "execution_count": 4,
   "metadata": {},
   "outputs": [
    {
     "data": {
      "text/plain": [
       "array([[0., 0., 0.],\n",
       "       [0., 0., 0.],\n",
       "       [0., 0., 0.],\n",
       "       [0., 0., 0.]])"
      ]
     },
     "execution_count": 4,
     "metadata": {},
     "output_type": "execute_result"
    }
   ],
   "source": [
    "np.zeros((4,3)) # 也可以定义阵列的形状"
   ]
  },
  {
   "cell_type": "code",
   "execution_count": 5,
   "metadata": {},
   "outputs": [
    {
     "data": {
      "text/plain": [
       "array([[1., 1., 1., 1., 1.],\n",
       "       [1., 1., 1., 1., 1.]])"
      ]
     },
     "execution_count": 5,
     "metadata": {},
     "output_type": "execute_result"
    }
   ],
   "source": [
    "np.ones((2, 5))"
   ]
  },
  {
   "cell_type": "code",
   "execution_count": 6,
   "metadata": {},
   "outputs": [
    {
     "data": {
      "text/plain": [
       "array([ 0,  1,  2,  3,  4,  5,  6,  7,  8,  9, 10, 11, 12, 13, 14])"
      ]
     },
     "execution_count": 6,
     "metadata": {},
     "output_type": "execute_result"
    }
   ],
   "source": [
    "\"\"\"1.3）使用数组函数: numpy.arange()\"\"\"\n",
    "\n",
    "np.arange(15)"
   ]
  },
  {
   "cell_type": "code",
   "execution_count": 7,
   "metadata": {},
   "outputs": [
    {
     "data": {
      "text/plain": [
       "array([[1., 0., 0., 0., 0., 0.],\n",
       "       [0., 1., 0., 0., 0., 0.],\n",
       "       [0., 0., 1., 0., 0., 0.],\n",
       "       [0., 0., 0., 1., 0., 0.],\n",
       "       [0., 0., 0., 0., 1., 0.],\n",
       "       [0., 0., 0., 0., 0., 1.]])"
      ]
     },
     "execution_count": 7,
     "metadata": {},
     "output_type": "execute_result"
    }
   ],
   "source": [
    "\"\"\"1.4）使用数组函数: numpy.eye()\"\"\"\n",
    "\n",
    "np.eye(6)  # 6阶单位矩阵"
   ]
  },
  {
   "cell_type": "code",
   "execution_count": 8,
   "metadata": {},
   "outputs": [
    {
     "name": "stdout",
     "output_type": "stream",
     "text": [
      "[89.   56.34 76.   89.   98.  ]\n",
      "[178.   112.68 152.   178.   196.  ]\n",
      "[0. 0. 0. 0. 0.]\n",
      "[7921.     3174.1956 5776.     7921.     9604.    ]\n",
      "[0.01123596 0.01774938 0.01315789 0.01123596 0.01020408]\n",
      "[9.43398113 7.5059976  8.71779789 9.43398113 9.89949494]\n"
     ]
    }
   ],
   "source": [
    "\"\"\"1.5）数组常用操作\"\"\"\n",
    "\n",
    "# 不使用 for 循环，也可以对数据执行批量操作，这就叫做 向量化。\n",
    "\n",
    "scores = [89, 56.34, 76, 89, 98]\n",
    "first_arr =np.array(scores)\n",
    "print(first_arr)\n",
    "print(first_arr + first_arr)  # 加\n",
    "print(first_arr - first_arr)  # 减\n",
    "print(first_arr * first_arr)  # 乘\n",
    "print(1/(first_arr))          # 除\n",
    "print(first_arr ** 0.5)       # 开根号"
   ]
  },
  {
   "cell_type": "code",
   "execution_count": 9,
   "metadata": {},
   "outputs": [
    {
     "name": "stdout",
     "output_type": "stream",
     "text": [
      "[ 0  1  2  3  4  5  6  7  8  9 10 11]\n",
      "5\n",
      "[4 5 6 7 8]\n",
      "[ 0  1  2  3 99 99 99 99 99  9 10 11]\n"
     ]
    }
   ],
   "source": [
    "\"\"\"2）数组的索引和切片\"\"\"\n",
    "\n",
    "new_arr = np.arange(12)\n",
    "print(new_arr)\n",
    "print(new_arr[5])\n",
    "print(new_arr[4:9])\n",
    "\n",
    "new_arr[4:9] = 99 # 分配 索引位为 4 到 9(含4不含9) 的值均为 99\n",
    "print(new_arr)"
   ]
  },
  {
   "cell_type": "code",
   "execution_count": 10,
   "metadata": {},
   "outputs": [
    {
     "name": "stdout",
     "output_type": "stream",
     "text": [
      "[     0      1      2      3     99 123456     99     99     99      9\n",
      "     10     11]\n"
     ]
    },
    {
     "data": {
      "text/plain": [
       "array([    99, 123456,     99,     99,     99])"
      ]
     },
     "execution_count": 10,
     "metadata": {},
     "output_type": "execute_result"
    }
   ],
   "source": [
    "# 列表（list） 和 数组（array） 之间的主要差异在于：数组切片是原始数组上的视图。\n",
    "# 这意味着：数据不会被复制，对视图的任何修改都将反映在 原始数组 中。\n",
    "\n",
    "modi_arr = new_arr[4:9] \n",
    "modi_arr[1] = 123456\n",
    "print(new_arr)               # 在主数组中也发生了更改\n",
    "modi_arr[:]                  # 切片的数据"
   ]
  },
  {
   "cell_type": "code",
   "execution_count": 11,
   "metadata": {},
   "outputs": [
    {
     "name": "stdout",
     "output_type": "stream",
     "text": [
      "[[3 4 5]\n",
      " [6 7 8]\n",
      " [9 5 1]]\n",
      "[6 7 8]\n",
      "5\n",
      "5\n"
     ]
    },
    {
     "data": {
      "image/png": "[encoded data removed]",
      "text/plain": [
       "<IPython.core.display.Image object>"
      ]
     },
     "execution_count": 11,
     "metadata": {},
     "output_type": "execute_result"
    }
   ],
   "source": [
    "\"\"\"3）数组可以像 矩阵 一样对待 （二维数组叫矩阵）\"\"\"\n",
    "\n",
    "matrix_arr =np.array([[3,4,5],[6,7,8],[9,5,1]])\n",
    "\n",
    "print(matrix_arr)\n",
    "print(matrix_arr[1])\n",
    "print(matrix_arr[0][2])  # 第一行第三列的值\n",
    "print(matrix_arr[0,2])   # 同上\n",
    "\n",
    "\n",
    "from IPython.display import Image  # 可以在shell 里打印图片（有趣）\n",
    "try:\n",
    "    i = Image(filename='/Users/admin/Desktop/image.png')\n",
    "except FileNotFoundError:\n",
    "    i = None\n",
    "    print(u'图片路径不正确')\n",
    "i # Blue print of a matrix "
   ]
  },
  {
   "cell_type": "code",
   "execution_count": 12,
   "metadata": {},
   "outputs": [],
   "source": [
    "\"\"\"4）小知识点\n",
    "\n",
    "居然可以在这里执行 Linux 命令行操作\n",
    "\n",
    "注意：命令行操作的话就不能像 python 代码里做注释了\"\"\"\n",
    "\n",
    "pass  # 不加 pass 会把上述内容当成一个字符串对象打印出来"
   ]
  },
  {
   "cell_type": "code",
   "execution_count": 13,
   "metadata": {},
   "outputs": [
    {
     "name": "stdout",
     "output_type": "stream",
     "text": [
      "/Users/admin/Desktop\n"
     ]
    }
   ],
   "source": [
    "cd '/Users/admin/Desktop'"
   ]
  },
  {
   "cell_type": "code",
   "execution_count": 14,
   "metadata": {},
   "outputs": [
    {
     "data": {
      "text/plain": [
       "'/Users/admin/Desktop'"
      ]
     },
     "execution_count": 14,
     "metadata": {},
     "output_type": "execute_result"
    }
   ],
   "source": [
    "pwd"
   ]
  },
  {
   "cell_type": "code",
   "execution_count": 15,
   "metadata": {},
   "outputs": [
    {
     "name": "stdout",
     "output_type": "stream",
     "text": [
      "\u001b[1m\u001b[36mElastic search\u001b[m\u001b[m/                       ship to.py\r\n",
      "Postico_1.5.5(4311).dmg               \u001b[1m\u001b[36msql\u001b[m\u001b[m/\r\n",
      "Twisted_learn.py                      \u001b[1m\u001b[36mworkplace\u001b[m\u001b[m/\r\n",
      "attach_ship_to.py                     \u001b[1m\u001b[36m图片\u001b[m\u001b[m/\r\n",
      "do_fix.py                             屏幕快照 2019-05-30 17.36.19.png\r\n",
      "\u001b[1m\u001b[36mfunny\u001b[m\u001b[m/                                屏幕快照 2019-05-30 17.36.23.png\r\n",
      "image.png                             \u001b[1m\u001b[36m质检入库单\u001b[m\u001b[m/\r\n"
     ]
    }
   ],
   "source": [
    "ls"
   ]
  },
  {
   "cell_type": "code",
   "execution_count": 21,
   "metadata": {},
   "outputs": [
    {
     "name": "stdout",
     "output_type": "stream",
     "text": [
      "[[[ 1  2  3]\n",
      "  [ 4  5  6]]\n",
      "\n",
      " [[ 7  8  9]\n",
      "  [10 11 12]]]\n",
      "\n",
      "\n",
      "1. 返回第一列（第三维）: \n",
      "[[1 2 3]\n",
      " [4 5 6]]\n",
      " 2. 返回第一列（第三维）里面的第二列（第二维）: [4 5 6]\n",
      " 3. 返回第一列（第三维）里面的第二列（第二维）里面的第二行（第一维）: 5\n"
     ]
    }
   ],
   "source": [
    "\n",
    "\n",
    "\n",
    "\"\"\"5）三维数组\"\"\"\n",
    "\n",
    "three_d_arr = np.array([[[1, 2, 3], [4, 5, 6]], [[7, 8, 9], [10, 11, 12]]])\n",
    "print(three_d_arr)  # 2x2x3，三维数组（1行2列，然后这2个元素分别为 2行3列 的数组；或者可以理解为： 0x2x2x3）\n",
    "print('\\n')\n",
    "print(\n",
    "    \"1. 返回第一列（第三维）: \\n{}\\n\".format(three_d_arr[0]),  # 返回的是低一个维的数组对象\n",
    "    \"2. 返回第一列（第三维）里面的第二列（第二维）: {}\\n\".format(three_d_arr[0, 1]),\n",
    "    \"3. 返回第一列（第三维）里面的第二列（第二维）里面的第二行（第一维）: {}\".format(three_d_arr[0, 1, 1])\n",
    ")"
   ]
  },
  {
   "cell_type": "code",
   "execution_count": 24,
   "metadata": {},
   "outputs": [
    {
     "data": {
      "text/plain": [
       "(numpy.ndarray, numpy.ndarray, numpy.int64)"
      ]
     },
     "execution_count": 24,
     "metadata": {},
     "output_type": "execute_result"
    }
   ],
   "source": [
    "type(three_d_arr[0]), type(three_d_arr[0, 1]), type(three_d_arr[0, 1, 1])"
   ]
  },
  {
   "cell_type": "code",
   "execution_count": 32,
   "metadata": {},
   "outputs": [
    {
     "name": "stdout",
     "output_type": "stream",
     "text": [
      "1. New value of three_d_arr:\n",
      "[[[99 99 99]\n",
      "  [99 99 99]]\n",
      "\n",
      " [[ 7  8  9]\n",
      "  [10 11 12]]] \n",
      "\n",
      "2. three_d_arr again:\n",
      "[[[ 1  2  3]\n",
      "  [ 4  5  6]]\n",
      "\n",
      " [[ 7  8  9]\n",
      "  [10 11 12]]]\n"
     ]
    }
   ],
   "source": [
    "\n",
    "\n",
    "\n",
    "\n",
    "\n",
    "copied_values = three_d_arr[0].copy() # 数组对象的 copy() 方法\n",
    "\n",
    "\n",
    "three_d_arr[0] = 99  # 注意：这是将 three_d_arr[0] 这个二维数组的所有元素都替换成 99\n",
    "print(\"1. New value of three_d_arr:\")\n",
    "print(three_d_arr, '\\n')\n",
    "\n",
    "\n",
    "three_d_arr[0] = copied_values  # assign copied values back to three_d_arr[0]\n",
    "print(\"2. three_d_arr again:\")\n",
    "print(three_d_arr)"
   ]
  },
  {
   "cell_type": "code",
   "execution_count": 49,
   "metadata": {},
   "outputs": [
    {
     "name": "stdout",
     "output_type": "stream",
     "text": [
      "The original matrix :\n",
      "[[3 4 5]\n",
      " [6 7 8]\n",
      " [9 5 1]]\n",
      "slices the first two rows :\n",
      "[[3 4 5]\n",
      " [6 7 8]]\n",
      "Slices the first two rows and two columns :\n",
      "[[4 5]\n",
      " [7 8]]\n",
      "returns 6 and 7: \n",
      "[6 7]\n",
      "Returns first column: \n",
      "[[3]\n",
      " [6]\n",
      " [9]]\n"
     ]
    }
   ],
   "source": [
    "\n",
    "\n",
    "\n",
    "\n",
    "matrix_arr =np.array([[3,4,5],[6,7,8],[9,5,1]])  # 矩阵（二维数组）\n",
    "\n",
    "print(\n",
    "    \"The original matrix :\\n{}\".format(matrix_arr)\n",
    ")\n",
    "print(\n",
    "    \"slices the first two rows :\\n{}\".format(matrix_arr[:2])  # 前2行\n",
    ")\n",
    "print(\n",
    "    \"Slices the first two rows and two columns :\\n{}\".format(matrix_arr[:2, 1:])  # 前2行 且 除第一列\n",
    ")\n",
    "print(\n",
    "    \"returns 6 and 7: \\n{}\".format(matrix_arr[1, :2])  # 第2行 且 前2列\n",
    ")\n",
    "print(\n",
    "    \"Returns first column: \\n{}\".format(matrix_arr[:, :1])  # 所有行 且 第一列\n",
    ")"
   ]
  },
  {
   "cell_type": "code",
   "execution_count": 48,
   "metadata": {},
   "outputs": [
    {
     "data": {
      "text/plain": [
       "(numpy.ndarray, numpy.ndarray, numpy.ndarray, numpy.ndarray, numpy.ndarray)"
      ]
     },
     "execution_count": 48,
     "metadata": {},
     "output_type": "execute_result"
    }
   ],
   "source": [
    "type(matrix_arr), type(matrix_arr[:2]), type(matrix_arr[:2, 1:]), type(matrix_arr[1, :2]), type(matrix_arr[:, :1])"
   ]
  },
  {
   "cell_type": "code",
   "execution_count": 51,
   "metadata": {},
   "outputs": [
    {
     "name": "stdout",
     "output_type": "stream",
     "text": [
      "[ True False False  True False False False]\n"
     ]
    }
   ],
   "source": [
    "\n",
    "\n",
    "\n",
    "\n",
    "# Import random module from Numpy \n",
    "\n",
    "personals = np.array(['Manu', 'Jeevan', 'Prakash', 'Manu', 'Prakash', 'Jeevan', 'Prakash'])\n",
    "print(personals == 'Manu') # checks for the string 'Manu' in personals. If present it returns true; else false"
   ]
  },
  {
   "cell_type": "code",
   "execution_count": 52,
   "metadata": {},
   "outputs": [
    {
     "name": "stdout",
     "output_type": "stream",
     "text": [
      "[[ 0.757844    1.35268591  0.29797329 -0.38105256]\n",
      " [-2.27156331  0.49633652  0.81860778  1.53675921]\n",
      " [ 2.8482999  -1.21556708  1.7536597   2.196244  ]\n",
      " [ 0.4781934   1.38401827 -0.63557267 -0.6777923 ]\n",
      " [ 0.50990296  0.3473201  -2.24513606  0.56966904]\n",
      " [ 0.13279882 -0.85495163  0.59343892 -0.75738583]\n",
      " [-1.15214454 -1.07690997  0.69546002  0.98882205]]\n"
     ]
    },
    {
     "data": {
      "text/plain": [
       "array([[ 0.757844  ,  1.35268591,  0.29797329, -0.38105256],\n",
       "       [ 0.4781934 ,  1.38401827, -0.63557267, -0.6777923 ]])"
      ]
     },
     "execution_count": 52,
     "metadata": {},
     "output_type": "execute_result"
    }
   ],
   "source": [
    "from numpy import random \n",
    "\n",
    "random_no = random.randn(7, 4)  # 随机生成 7x4 矩阵\n",
    "print(random_no)\n",
    "\n",
    "random_no[personals =='Manu']  # 切片，只保留索引位在 personals 中为 true 的项 （特殊的切片方式）"
   ]
  },
  {
   "cell_type": "code",
   "execution_count": 53,
   "metadata": {},
   "outputs": [
    {
     "data": {
      "text/plain": [
       "array([[ 0.29797329, -0.38105256],\n",
       "       [-0.63557267, -0.6777923 ]])"
      ]
     },
     "execution_count": 53,
     "metadata": {},
     "output_type": "execute_result"
    }
   ],
   "source": [
    "random_no[personals == 'Manu', 2:]  # 上述条件 且 第三列（含）之后"
   ]
  },
  {
   "cell_type": "code",
   "execution_count": 65,
   "metadata": {},
   "outputs": [
    {
     "name": "stdout",
     "output_type": "stream",
     "text": [
      "[False  True  True False  True  True  True]\n"
     ]
    },
    {
     "data": {
      "text/plain": [
       "array([[-2.27156331,  0.49633652,  0.81860778,  1.53675921],\n",
       "       [ 2.8482999 , -1.21556708,  1.7536597 ,  2.196244  ],\n",
       "       [ 0.50990296,  0.3473201 , -2.24513606,  0.56966904],\n",
       "       [ 0.13279882, -0.85495163,  0.59343892, -0.75738583],\n",
       "       [-1.15214454, -1.07690997,  0.69546002,  0.98882205]])"
      ]
     },
     "execution_count": 65,
     "metadata": {},
     "output_type": "execute_result"
    }
   ],
   "source": [
    "\n",
    "\n",
    "\n",
    "# 反之\n",
    "print(personals != 'Manu')\n",
    "random_no[~(personals == 'Manu')]  # random_no[(personals != 'Manu')]  也一样"
   ]
  },
  {
   "cell_type": "code",
   "execution_count": 67,
   "metadata": {},
   "outputs": [
    {
     "name": "stdout",
     "output_type": "stream",
     "text": [
      "[ True  True False  True False  True False]\n"
     ]
    },
    {
     "data": {
      "text/plain": [
       "array([[ 0.757844  ,  1.35268591,  0.29797329, -0.38105256],\n",
       "       [-2.27156331,  0.49633652,  0.81860778,  1.53675921],\n",
       "       [ 0.4781934 ,  1.38401827, -0.63557267, -0.6777923 ],\n",
       "       [ 0.13279882, -0.85495163,  0.59343892, -0.75738583]])"
      ]
     },
     "execution_count": 67,
     "metadata": {},
     "output_type": "execute_result"
    }
   ],
   "source": [
    "\n",
    "\n",
    "\n",
    "# 也可以使用布尔操作符 &(and),  |(or)\n",
    "new_variable = (personals == 'Manu') | (personals == 'Jeevan')\n",
    "print(new_variable)\n",
    "\n",
    "random_no[new_variable] "
   ]
  },
  {
   "cell_type": "code",
   "execution_count": 68,
   "metadata": {},
   "outputs": [
    {
     "data": {
      "text/plain": [
       "array([[0.757844  , 1.35268591, 0.29797329, 0.        ],\n",
       "       [0.        , 0.49633652, 0.81860778, 1.53675921],\n",
       "       [2.8482999 , 0.        , 1.7536597 , 2.196244  ],\n",
       "       [0.4781934 , 1.38401827, 0.        , 0.        ],\n",
       "       [0.50990296, 0.3473201 , 0.        , 0.56966904],\n",
       "       [0.13279882, 0.        , 0.59343892, 0.        ],\n",
       "       [0.        , 0.        , 0.69546002, 0.98882205]])"
      ]
     },
     "execution_count": 68,
     "metadata": {},
     "output_type": "execute_result"
    }
   ],
   "source": [
    "\n",
    "random_no[random_no < 0] = 0 \n",
    "random_no # 将所有不符合条件的项全部置位为 0"
   ]
  },
  {
   "cell_type": "code",
   "execution_count": 69,
   "metadata": {},
   "outputs": [
    {
     "data": {
      "text/plain": [
       "array([[0.757844  , 1.35268591, 0.29797329, 0.        ],\n",
       "       [9.        , 9.        , 9.        , 9.        ],\n",
       "       [9.        , 9.        , 9.        , 9.        ],\n",
       "       [0.4781934 , 1.38401827, 0.        , 0.        ],\n",
       "       [9.        , 9.        , 9.        , 9.        ],\n",
       "       [9.        , 9.        , 9.        , 9.        ],\n",
       "       [9.        , 9.        , 9.        , 9.        ]])"
      ]
     },
     "execution_count": 69,
     "metadata": {},
     "output_type": "execute_result"
    }
   ],
   "source": [
    "\n",
    "random_no[personals != 'Manu'] = 9  # 所有 为真的索引位 所对应的行 全置为 9\n",
    "random_no"
   ]
  },
  {
   "cell_type": "code",
   "execution_count": 70,
   "metadata": {},
   "outputs": [
    {
     "data": {
      "text/plain": [
       "array([[0., 0., 0., 0.],\n",
       "       [1., 1., 1., 1.],\n",
       "       [2., 2., 2., 2.],\n",
       "       [3., 3., 3., 3.],\n",
       "       [4., 4., 4., 4.],\n",
       "       [5., 5., 5., 5.],\n",
       "       [6., 6., 6., 6.]])"
      ]
     },
     "execution_count": 70,
     "metadata": {},
     "output_type": "execute_result"
    }
   ],
   "source": [
    "\n",
    "\n",
    "\n",
    "\"\"\"6）花俏的索引(使用 整数数组 作为索引)\n",
    "\n",
    "花式索引用来：将数据复制到新数组中\"\"\"\n",
    "\n",
    "from numpy import random\n",
    "algebra = random.randn(7,4) # empty will return a matrix of size 7,4\n",
    "for j in range(7):\n",
    "    algebra[j] = j\n",
    "algebra  # 代数"
   ]
  },
  {
   "cell_type": "code",
   "execution_count": null,
   "metadata": {},
   "outputs": [],
   "source": []
  }
 ],
 "metadata": {
  "kernelspec": {
   "display_name": "Python [conda env:pytorch] *",
   "language": "python",
   "name": "conda-env-pytorch-py"
  },
  "language_info": {
   "codemirror_mode": {
    "name": "ipython",
    "version": 3
   },
   "file_extension": ".py",
   "mimetype": "text/x-python",
   "name": "python",
   "nbconvert_exporter": "python",
   "pygments_lexer": "ipython3",
   "version": "3.7.3"
  }
 },
 "nbformat": 4,
 "nbformat_minor": 2
}
