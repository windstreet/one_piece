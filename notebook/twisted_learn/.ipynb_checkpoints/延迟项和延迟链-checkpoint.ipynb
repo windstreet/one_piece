{
 "cells": [
  {
   "cell_type": "markdown",
   "metadata": {},
   "source": [
    "# Twisted\n",
    "\n",
    "1）延迟项 和 延迟链\n",
    "\n",
    "延迟项：是 Twisted 写出 **异步代码** 的最重要机制。Twisted APIs 使用延迟项让我们 --> 定义事件发生时，产生动作的顺序。\n",
    "\n",
    "## Experiment 1"
   ]
  },
  {
   "cell_type": "code",
   "execution_count": 1,
   "metadata": {},
   "outputs": [
    {
     "name": "stdout",
     "output_type": "stream",
     "text": [
      "<class 'type'>\n",
      "<Deferred at 0x104b73390>\n"
     ]
    },
    {
     "data": {
      "text/plain": [
       "False"
      ]
     },
     "execution_count": 1,
     "metadata": {},
     "output_type": "execute_result"
    }
   ],
   "source": [
    "from twisted.internet import defer\n",
    "d = defer.Deferred()  # d 这个实例对象就称为: 延迟项（Deferred）。\n",
    "\n",
    "print(type(defer.Deferred))\n",
    "print(d)\n",
    "\n",
    "d.called  # 此时还不可调用；即 d.called == False 时，d.result 会报错。"
   ]
  },
  {
   "cell_type": "code",
   "execution_count": 2,
   "metadata": {},
   "outputs": [
    {
     "data": {
      "text/plain": [
       "True"
      ]
     },
     "execution_count": 2,
     "metadata": {},
     "output_type": "execute_result"
    }
   ],
   "source": [
    "d.callback(3)\n",
    "d.called"
   ]
  },
  {
   "cell_type": "code",
   "execution_count": 3,
   "metadata": {},
   "outputs": [
    {
     "data": {
      "text/plain": [
       "3"
      ]
     },
     "execution_count": 3,
     "metadata": {},
     "output_type": "execute_result"
    }
   ],
   "source": [
    "d.result  # 当我们触发 d 时（即，调用 d 的 callback方法时），延迟项的 called 状态变为True，result 属性变为调用的值。"
   ]
  },
  {
   "cell_type": "code",
   "execution_count": 4,
   "metadata": {},
   "outputs": [
    {
     "ename": "AlreadyCalledError",
     "evalue": "",
     "output_type": "error",
     "traceback": [
      "\u001b[0;31m---------------------------------------------------------------------------\u001b[0m",
      "\u001b[0;31mAlreadyCalledError\u001b[0m                        Traceback (most recent call last)",
      "\u001b[0;32m<ipython-input-4-947de3b6c560>\u001b[0m in \u001b[0;36m<module>\u001b[0;34m\u001b[0m\n\u001b[0;32m----> 1\u001b[0;31m \u001b[0md\u001b[0m\u001b[0;34m.\u001b[0m\u001b[0mcallback\u001b[0m\u001b[0;34m(\u001b[0m\u001b[0;36m6\u001b[0m\u001b[0;34m)\u001b[0m  \u001b[0;31m# 触发后再添加就会报错\u001b[0m\u001b[0;34m\u001b[0m\u001b[0;34m\u001b[0m\u001b[0m\n\u001b[0m",
      "\u001b[0;32m~/miniconda3/envs/pytorch/lib/python3.7/site-packages/twisted/internet/defer.py\u001b[0m in \u001b[0;36mcallback\u001b[0;34m(self, result)\u001b[0m\n\u001b[1;32m    458\u001b[0m         \"\"\"\n\u001b[1;32m    459\u001b[0m         \u001b[0;32massert\u001b[0m \u001b[0;32mnot\u001b[0m \u001b[0misinstance\u001b[0m\u001b[0;34m(\u001b[0m\u001b[0mresult\u001b[0m\u001b[0;34m,\u001b[0m \u001b[0mDeferred\u001b[0m\u001b[0;34m)\u001b[0m\u001b[0;34m\u001b[0m\u001b[0;34m\u001b[0m\u001b[0m\n\u001b[0;32m--> 460\u001b[0;31m         \u001b[0mself\u001b[0m\u001b[0;34m.\u001b[0m\u001b[0m_startRunCallbacks\u001b[0m\u001b[0;34m(\u001b[0m\u001b[0mresult\u001b[0m\u001b[0;34m)\u001b[0m\u001b[0;34m\u001b[0m\u001b[0;34m\u001b[0m\u001b[0m\n\u001b[0m\u001b[1;32m    461\u001b[0m \u001b[0;34m\u001b[0m\u001b[0m\n\u001b[1;32m    462\u001b[0m \u001b[0;34m\u001b[0m\u001b[0m\n",
      "\u001b[0;32m~/miniconda3/envs/pytorch/lib/python3.7/site-packages/twisted/internet/defer.py\u001b[0m in \u001b[0;36m_startRunCallbacks\u001b[0;34m(self, result)\u001b[0m\n\u001b[1;32m    559\u001b[0m                 \u001b[0mextra\u001b[0m \u001b[0;34m=\u001b[0m \u001b[0;34m\"\\n\"\u001b[0m \u001b[0;34m+\u001b[0m \u001b[0mself\u001b[0m\u001b[0;34m.\u001b[0m\u001b[0m_debugInfo\u001b[0m\u001b[0;34m.\u001b[0m\u001b[0m_getDebugTracebacks\u001b[0m\u001b[0;34m(\u001b[0m\u001b[0;34m)\u001b[0m\u001b[0;34m\u001b[0m\u001b[0;34m\u001b[0m\u001b[0m\n\u001b[1;32m    560\u001b[0m                 \u001b[0;32mraise\u001b[0m \u001b[0mAlreadyCalledError\u001b[0m\u001b[0;34m(\u001b[0m\u001b[0mextra\u001b[0m\u001b[0;34m)\u001b[0m\u001b[0;34m\u001b[0m\u001b[0;34m\u001b[0m\u001b[0m\n\u001b[0;32m--> 561\u001b[0;31m             \u001b[0;32mraise\u001b[0m \u001b[0mAlreadyCalledError\u001b[0m\u001b[0;34m\u001b[0m\u001b[0;34m\u001b[0m\u001b[0m\n\u001b[0m\u001b[1;32m    562\u001b[0m         \u001b[0;32mif\u001b[0m \u001b[0mself\u001b[0m\u001b[0;34m.\u001b[0m\u001b[0mdebug\u001b[0m\u001b[0;34m:\u001b[0m\u001b[0;34m\u001b[0m\u001b[0;34m\u001b[0m\u001b[0m\n\u001b[1;32m    563\u001b[0m             \u001b[0;32mif\u001b[0m \u001b[0mself\u001b[0m\u001b[0;34m.\u001b[0m\u001b[0m_debugInfo\u001b[0m \u001b[0;32mis\u001b[0m \u001b[0;32mNone\u001b[0m\u001b[0;34m:\u001b[0m\u001b[0;34m\u001b[0m\u001b[0;34m\u001b[0m\u001b[0m\n",
      "\u001b[0;31mAlreadyCalledError\u001b[0m: "
     ]
    }
   ],
   "source": [
    "d.callback(6)  # 触发后再添加就会报错"
   ]
  },
  {
   "cell_type": "code",
   "execution_count": null,
   "metadata": {},
   "outputs": [],
   "source": [
    "d"
   ]
  },
  {
   "cell_type": "markdown",
   "metadata": {},
   "source": [
    "---\n",
    "\n",
    "# Experiment 2\n",
    "延迟项的最强大之处是：当值确定时，可以在延迟链上添加新的项。"
   ]
  },
  {
   "cell_type": "code",
   "execution_count": null,
   "metadata": {},
   "outputs": [],
   "source": [
    "def foo(v):\n",
    "    print(\"foo called\")\n",
    "    return v+1\n",
    "\n",
    "d = defer.Deferred()\n",
    "d.addCallback(foo)  # addCallback 添加回调函数：使用 foo()函数 作为 延迟项d 的回调。"
   ]
  },
  {
   "cell_type": "code",
   "execution_count": null,
   "metadata": {},
   "outputs": [],
   "source": [
    "d.called"
   ]
  },
  {
   "cell_type": "code",
   "execution_count": null,
   "metadata": {},
   "outputs": [],
   "source": [
    "d.callback(3)  # 3 作为 刚刚添加的 回调函数foo() 的参数，函数foo()被调用并打印出信息。返回值作为 d 的最后结果。延迟项本质代表一个值。"
   ]
  },
  {
   "cell_type": "code",
   "execution_count": null,
   "metadata": {},
   "outputs": [],
   "source": [
    "d.called"
   ]
  },
  {
   "cell_type": "code",
   "execution_count": null,
   "metadata": {},
   "outputs": [],
   "source": [
    "d.result"
   ]
  },
  {
   "cell_type": "code",
   "execution_count": null,
   "metadata": {},
   "outputs": [],
   "source": [
    "d"
   ]
  },
  {
   "cell_type": "markdown",
   "metadata": {},
   "source": [
    "---\n",
    "\n",
    "\n",
    "# Experiment 3\n"
   ]
  },
  {
   "cell_type": "code",
   "execution_count": null,
   "metadata": {},
   "outputs": [],
   "source": [
    "def status(*defers):\n",
    "    \"\"\"打印延迟项的状态: 延迟项的值（有触发才有值，延迟项才有 result 属性） 和 回调个数；\n",
    "       \n",
    "       d.callback 不同于 d.callbacks，前者触发回调，后者返回所有回调函数。\n",
    "    \"\"\"\n",
    "    \n",
    "    return [(getattr(d, 'result', \"N/A\"), len(d.callbacks)) for d in defers]\n",
    "\n",
    "def b_callback(arg):\n",
    "    print(\"b_callback called with arg =\", arg)\n",
    "    return b  # 返回 接下来定义的 b 延迟项\n",
    "\n",
    "def on_done(arg):\n",
    "    print(\"on_done called with arg =\", arg)\n",
    "    return arg\n",
    "\n",
    "a = defer.Deferred()\n",
    "b = defer.Deferred()\n",
    "a.addCallback(b_callback).addCallback(on_done)  # 为延迟项a，添加两个回调\n"
   ]
  },
  {
   "cell_type": "code",
   "execution_count": null,
   "metadata": {},
   "outputs": [],
   "source": [
    "status(a, b)  # 两个延迟项都没有被触发，第一个有两个调回，第二个没有调回。"
   ]
  },
  {
   "cell_type": "markdown",
   "metadata": {},
   "source": [
    "---\n",
    "\n",
    "# Experiment 3.a\n"
   ]
  },
  {
   "cell_type": "code",
   "execution_count": null,
   "metadata": {},
   "outputs": [],
   "source": [
    "a.callback(3) "
   ]
  },
  {
   "cell_type": "code",
   "execution_count": null,
   "metadata": {},
   "outputs": [],
   "source": [
    "status(a, b)  # 延迟项 a 第一个回调 b_callback() 执行后，回调函数的结果返回了 延迟项 b; \n",
    "              # 此时可以认为，延迟项 b 就接管了 延迟项 a 的第二个未被执行的 回调 on_done()"
   ]
  },
  {
   "cell_type": "code",
   "execution_count": null,
   "metadata": {},
   "outputs": [],
   "source": [
    "b.callback(4)  # 延迟项 b 的 on_done() 回调被触发"
   ]
  },
  {
   "cell_type": "code",
   "execution_count": null,
   "metadata": {},
   "outputs": [],
   "source": [
    "status(a, b)  # 为啥 b.result == None ??????? \n",
    "              # 整个过程：可以理解为 a 的 第一个回调 执行后，返回 b，由于此时的 延迟项 b 尚未触发（即，b 无 result 属性），就没有值，\n",
    "              #          就无法 触发 a 的第二个回调。直到延迟项 b 被触发了，b.result 有值了，且该值作为参数传递给 a 的第二个回调。\n",
    "              # b.result 被用掉之后，值变为了 None。"
   ]
  },
  {
   "cell_type": "code",
   "execution_count": null,
   "metadata": {},
   "outputs": [],
   "source": [
    "a"
   ]
  },
  {
   "cell_type": "code",
   "execution_count": null,
   "metadata": {},
   "outputs": [],
   "source": [
    "b"
   ]
  },
  {
   "cell_type": "markdown",
   "metadata": {},
   "source": [
    "---\n",
    "\n",
    "\n",
    "# Experiment 3.b\n",
    "\n",
    "在设 a 为 3 之前就先触发 b。\n"
   ]
  },
  {
   "cell_type": "code",
   "execution_count": null,
   "metadata": {},
   "outputs": [],
   "source": [
    "a = defer.Deferred()\n",
    "b = defer.Deferred()\n",
    "a.addCallback(b_callback).addCallback(on_done)\n",
    "\n",
    "b.callback(4)  # 先触发b\n",
    "status(a, b)  # b 先被触发（b 没有回调，就直接返回传入的值：4）"
   ]
  },
  {
   "cell_type": "code",
   "execution_count": null,
   "metadata": {},
   "outputs": [],
   "source": [
    "a.callback(3)  # 触发 b\n",
    "               # 第一个回调 b_callback() 执行，返回值为：b -> <Deferred at 0x10df72560 current result: 4>\n",
    "               # 第二个回调 on_done() 执行，传入的参数为：b 延迟项（注意！！：延迟项本质代表一个值，即参数为 b.result）"
   ]
  },
  {
   "cell_type": "code",
   "execution_count": null,
   "metadata": {},
   "outputs": [],
   "source": [
    "status(a, b)  # 是否 b 延迟项作为 a 的第二个回调的参数后，b 的值就置 None ???????????????????"
   ]
  },
  {
   "cell_type": "markdown",
   "metadata": {},
   "source": [
    "---\n",
    "\n",
    "## 总结\n",
    "\n",
    "无论触发的顺序，结果都是一样的。\n",
    "两者的区别是：\n",
    "   >在第一种情况中，b的值被延迟更久，因为它是后触发的。\n",
    "   >\n",
    "   >而在第二种情况中，先触发b，然后它的值立即被使用。\n",
    "\n",
    "### 我的理解：\n",
    "   >1）当一个延迟项 a 添加了多个回调函数，触发该延迟项时，回调是按顺序依次执行的;\n",
    "   >\n",
    "   >2）每个回调函数的返回值，作为下一个回调函数的参数;\n",
    "   >\n",
    "   >3）若上一个回调的返回值 为另外一个 延迟项 b ，那么会有2种情况：\n",
    "   1. 延迟项 b 未被触发（没有值）：那么当前回调只能等到 b 被触发后才能被执行。\n",
    "   2. 延迟项 b 已经被触发（有值）：b.result 作为参数，且执行当前回调后 b.result 被置为 None。\n",
    "   >\n",
    "   >4）任何延迟项，触发后（执行 callback() ）就不能再继续触发，不能再继续添加回调，只能等待被另外一个延迟项调用（即，可以被另外的延迟项的回调函数所引用 or 作为参数）；\n",
    "   >\n",
    "   >5）延迟项作为另外一个延迟项的回调参数后（延迟项被调用），该延迟项将不再拥有值（延迟项.result == None）\n",
    "\n",
    "---"
   ]
  },
  {
   "cell_type": "markdown",
   "metadata": {},
   "source": [
    "\n",
    "# Experiment 4\n",
    "\n",
    "延迟链：其触发取决于它的所有延迟项是否已经都触发。\n"
   ]
  },
  {
   "cell_type": "code",
   "execution_count": null,
   "metadata": {},
   "outputs": [],
   "source": [
    "def on_done(arg):\n",
    "    print(\"on_done called with arg =\", arg)\n",
    "    return arg\n",
    "\n",
    "deferreds = [defer.Deferred() for i in range(5)]  # 含5个延迟项的list\n",
    "join = defer.DeferredList(deferreds)  # join -> <DeferredList at 0x10ded0b00> 延迟链\n",
    "join.addCallback(on_done)"
   ]
  },
  {
   "cell_type": "markdown",
   "metadata": {},
   "source": [
    "\n",
    "# Experiment 4.a\n",
    "\n",
    "先触发部分延迟项\n"
   ]
  },
  {
   "cell_type": "code",
   "execution_count": null,
   "metadata": {},
   "outputs": [],
   "source": [
    "for i in range(4):\n",
    "    deferreds[i].callback(i)  # 触发前4个延迟项，这几个延迟项都没有添加回调函数，触发时就直接把触发参数作为结果。\n",
    "    print(deferreds[i])\n",
    "\n",
    "print(deferreds[4])"
   ]
  },
  {
   "cell_type": "code",
   "execution_count": null,
   "metadata": {},
   "outputs": [],
   "source": [
    "deferreds[4].callback(4)  # 触发第五个延迟项，此时 join 的值中不再包含未被触发的延迟项。\n",
    "                    # 当延迟链里 没有未触发的延迟项时，延迟链的回调函数就会被执行，而第一个回调函数的回调参数就为 延迟项组成的list。\n",
    "                    # 回调参数即为：join.result => [(deferred_1.caller, deferred_1.result), (...), ...]"
   ]
  },
  {
   "cell_type": "code",
   "execution_count": null,
   "metadata": {},
   "outputs": [],
   "source": [
    "join.result"
   ]
  },
  {
   "cell_type": "markdown",
   "metadata": {},
   "source": [
    "---\n",
    "\n",
    "# Experiment 4.b\n",
    "\n",
    "一次性触发全部延迟项。"
   ]
  },
  {
   "cell_type": "code",
   "execution_count": null,
   "metadata": {},
   "outputs": [],
   "source": [
    "deferreds = [defer.Deferred() for i in range(5)]\n",
    "join = defer.DeferredList(deferreds)\n",
    "join.addCallback(on_done)\n",
    "\n",
    "for i in range(5):\n",
    "    deferreds[i].callback(i)  # 全部触发\n",
    "    if i == 4:\n",
    "        print(\"最后一个延迟项也已经触发，上述打印了 join 对象的回调函数的执行结果\")\n",
    "\n",
    "    print(deferreds[i])"
   ]
  },
  {
   "cell_type": "markdown",
   "metadata": {},
   "source": [
    "---\n",
    "# twisted 的实际应用\n",
    "\n",
    "##  1）一个不好的办法"
   ]
  },
  {
   "cell_type": "code",
   "execution_count": null,
   "metadata": {},
   "outputs": [],
   "source": [
    "# ~*~ Twisted - A Python tale ~*~\n",
    "from time import sleep\n",
    "import datetime\n",
    "\n",
    "def install_wordpress(customer):\n",
    "    \"\"\"为一个人安装需要 3s\"\"\"\n",
    "\n",
    "    print(\"Start installation for\", customer)\n",
    "    sleep(3)\n",
    "    print(\"All done for\", customer)\n",
    "\n",
    "def developer_day(customers):\n",
    "    \"\"\"为所有人安装\"\"\"\n",
    "    \n",
    "    start_time = datetime.datetime.now()\n",
    "    for customer in customers:\n",
    "        install_wordpress(customer)\n",
    "\n",
    "    end_time = datetime.datetime.now()\n",
    "    print(\"cost = \" + str(end_time - start_time))\n",
    "\n",
    "developer_day([\"Bill\", \"Elon\", \"Steve\", \"Mark\"])  # 结果是顺序执行的。4名顾客，每人3秒，总和就是12秒。"
   ]
  },
  {
   "cell_type": "markdown",
   "metadata": {},
   "source": [
    "## 2）另一个不怎么友好的办法"
   ]
  },
  {
   "cell_type": "code",
   "execution_count": null,
   "metadata": {},
   "outputs": [],
   "source": [
    "# 增加工人 ~ 添加线程\n",
    "\n",
    "import threading\n",
    "\n",
    "def developers_day(customers):\n",
    "    lock = threading.Lock()\n",
    "    start_time = datetime.datetime.now()\n",
    "\n",
    "    def dev_day(id):\n",
    "        print(\"Goodmorning from developer\", id)\n",
    "        lock.acquire()\n",
    "\n",
    "        while customers:\n",
    "            customer = customers.pop(0)  # 选一个顾客\n",
    "            lock.release()\n",
    "            install_wordpress(customer)\n",
    "            lock.acquire()\n",
    "\n",
    "        lock.release()\n",
    "        print(\"Bye from developer\", id)\n",
    "\n",
    "    devs = [threading.Thread(target=dev_day, args=(i,)) for i in range(5)]  # 5个工人\n",
    "    [dev.start() for dev in devs]\n",
    "    [dev.join() for dev in devs]\n",
    "    end_time = datetime.datetime.now()\n",
    "    print(\"cost = \" + str(end_time - start_time))\n",
    "\n",
    "developers_day([\"Customer %d\" % i for i in range(15)])  # 安排15个顾客\n"
   ]
  },
  {
   "cell_type": "markdown",
   "metadata": {},
   "source": [
    "你用5名工人线程并行执行。\n",
    "15名顾客，每人3秒，单人处理要45秒，但是有5名工人的话，9秒就够了。  \n",
    "但是代码有些复杂。不再关注于算法和逻辑，它只考虑并发。另外，输出结果变得混乱且可读性变差。\n",
    "\n",
    "---"
   ]
  },
  {
   "cell_type": "markdown",
   "metadata": {},
   "source": [
    "## 3）把简单的多线程代码写的好看也十分困难，现在我们 Twisted怎么来做\n"
   ]
  },
  {
   "cell_type": "code",
   "execution_count": null,
   "metadata": {},
   "outputs": [],
   "source": [
    "import datetime\n",
    "from twisted.internet import reactor\n",
    "from twisted.internet import defer\n",
    "from twisted.internet import task\n",
    "\n",
    "def schedule_install(customer):\n",
    "    \"\"\"返回一个延迟项：task.deferLater 的妙用\"\"\"\n",
    "\n",
    "    def schedule_install_wordpress():\n",
    "        def on_done():\n",
    "            print(\"Callback: Finished installation for\", customer)\n",
    "\n",
    "        print(\"Scheduling: Installation for\", customer)\n",
    "        return task.deferLater(reactor, 3, on_done)  # 3秒后执行 on_done() 函数。返回值是一个延迟项。\n",
    "\n",
    "    def all_done(_):\n",
    "        print(\"All done for\", customer)\n",
    "\n",
    "    d = schedule_install_wordpress()  # d 是一个延迟项。\n",
    "    d.addCallback(all_done)  # 为延迟项 d 添加一个回调函数（该函数仅起到提示这个人的工作已经完成的作用）\n",
    "    return d  # 返回一个延迟项\n",
    "\n",
    "def twisted_developer_day(customers):\n",
    "    print(\"Goodmorning from Twisted developer\")\n",
    "    \n",
    "    work = [schedule_install(customer) for customer in customers]  # 为所有的顾客创建延迟项（多线程了吧）\n",
    "    join = defer.DeferredList(work)  # 用这些 延迟项 组成的list，创建 延迟链。\n",
    "    join.addCallback(lambda _: reactor.stop())  # 为 延迟链 添加回调函数 （匿名函数：lambda _: reactor.stop() ）  \n",
    "                                                # 当 延迟链 中的所有延迟项都触发后，就会执行回调函数。\n",
    "    \n",
    "    print(\"Bye from Twisted developer!\")\n"
   ]
  },
  {
   "cell_type": "code",
   "execution_count": null,
   "metadata": {},
   "outputs": [],
   "source": [
    "twisted_developer_day([\"Customer %d\" % i for i in range(15)])  # 15个顾客作为参数\n",
    "start_time = datetime.datetime.now()\n",
    "reactor.run()  # 监控事件并触发回调\n",
    "end_time = datetime.datetime.now()\n",
    "print(\"cost = \" + str(end_time - start_time))"
   ]
  },
  {
   "cell_type": "markdown",
   "metadata": {},
   "source": [
    "我们没用线程就得到了十分漂亮的结果。  \n",
    "我们并行处理了15名顾客，45秒的工作在3秒内完成。（开了15个线程）  \n",
    "我们的方法是让阻塞的调用进行 `sleep()`，而采用 `task.deferLater()` 和调用函数。  \n",
    "在其它地方进行处理时，我们可以轻松送出应付15名顾客。\n",
    "\n",
    "#### 笔记：\n",
    "   >上述提到 “在其它地方进行处理” ，是指：计算仍在CPU中进行。  \n",
    "   >与磁盘和网络操作比起来，如今的CPU运算非常快。  \n",
    "   >CPU接收发送数据或存储才是最花时间的。  \n",
    "   >通过使用非阻塞I/O操作，我们为CPUs节省了这个时间。  \n",
    "   >与 `task.deferLater()` 相似，当数据传输完毕时，触发再进行调用。  \n",
    "  \n",
    " ---"
   ]
  },
  {
   "cell_type": "markdown",
   "metadata": {},
   "source": [
    "\n",
    "另一个重点是 `\"Goodmorning from Twisted developer\"` 和 `\"Bye from Twisted developer!\"` 消息。  \n",
    "当运行代码时，它们立即就被打印出来。如果代码到达此处这么早，应用什么时候真正运行起来的呢？  \n",
    "\n",
    ">答案是 Twisted 应用全部都是在 `reactor.run()` 中运行的。\n",
    "\n",
    "当你调用某个方法时，你必须有每个可能要用到的延迟项（相当于前面的故事里，在CRM系统中设定步骤和过程）。  \n",
    "你的 reactor.run() 监控事件并触发回调。\n",
    "\n",
    "\n",
    "#### 笔记：\n",
    "   >反应器（reactor）的最主要规则是：只要是非阻塞操作就可以执行。\n",
    "\n",
    "虽然没有线程了，调回函数还是有点不好看。看下面的例子：\n",
    "\n",
    "\n",
    "\n",
    "# 证明 deferLater 的返回值是一个延迟项"
   ]
  },
  {
   "cell_type": "code",
   "execution_count": null,
   "metadata": {},
   "outputs": [],
   "source": [
    "a = task.deferLater(reactor, 3, lambda : 66666) \n",
    "a"
   ]
  },
  {
   "cell_type": "markdown",
   "metadata": {},
   "source": [
    "---\n",
    "\n",
    "# 4）最佳实践\n",
    "\n",
    "@defer.inlineCallbacks 装饰器，让你的代码更具可读性"
   ]
  },
  {
   "cell_type": "code",
   "execution_count": null,
   "metadata": {},
   "outputs": [],
   "source": [
    "import datetime\n",
    "from twisted.internet import reactor\n",
    "from twisted.internet import defer\n",
    "from twisted.internet import task\n",
    "\n",
    "@defer.inlineCallbacks\n",
    "def inline_install(customer):\n",
    "    \"\"\"模拟为一个顾客服务3秒\"\"\"\n",
    "    \n",
    "    print(\"Scheduling: Installation for\", customer)\n",
    "    \n",
    "    yield task.deferLater(reactor, 3, lambda: None)  # yield 一个延迟项, 其添加了一个回调函数（模拟延迟3秒的功能）\n",
    "    \n",
    "    print(\"Callback: Finished installation for\", customer)\n",
    "    print(\"All done for\", customer)\n",
    "\n",
    "\n",
    "def twisted_developer_day(customers):\n",
    "\n",
    "    print(\"Goodmorning from Twisted developer\")\n",
    "    \n",
    "    work = [inline_install(customer) for customer in customers]  # 延迟项 list\n",
    "    join = defer.DeferredList(work)  # 创建延迟链\n",
    "    join.addCallback(lambda _: reactor.stop())  # 添加延迟链的回调函数\n",
    "    \n",
    "    print(\"Bye from Twisted developer!\")\n",
    "\n",
    "    \n",
    "twisted_developer_day([\"Customer %d\" % i for i in range(15)])\n",
    "start_time = datetime.datetime.now()\n",
    "reactor.run()  # 这个东西到底是怎么触发延迟链里的延迟项的 ？？？？？？？？？\n",
    "end_time = datetime.datetime.now()\n",
    "print(\"cost = \" + str(end_time - start_time))\n"
   ]
  },
  {
   "cell_type": "markdown",
   "metadata": {},
   "source": [
    "这段代码的功能和之前的一样，但是好看很多。  \n",
    "`inlineCallbacks` 装饰器用 Python 的机制暂停和继续 `inline_install()` 中的代码。  \n",
    "`inline_install()` 变成了一个 ***延迟项***，而后对每名顾客并行执行。  \n",
    "每次 `yield` 时，暂停当前的 `inline_install()`，被触发时再继续。\n",
    "\n",
    "唯一的问题是：\n",
    "   >当我们不是有15名顾客，而是10000名时，这段代码会同时发起10000个 进程（可以是HTTP请求、写入数据库等等）。\n",
    "这可能可以运行，或者会产生严重的问题。在大并发应用中，我们通常会限制并发数。\n",
    "\n",
    "---"
   ]
  },
  {
   "cell_type": "markdown",
   "metadata": {},
   "source": [
    "\n",
    "在下面例子中。Scrapy使用了相似的机制，在 CONCURRENT_ITEMS 设置中限制并发数：\n",
    "\n",
    "\n",
    "\n",
    "我们现在看到，一共有五个顾客的处理窗口。\n",
    "只有存在空窗口时，才能服务新顾客。\n",
    "因为处理每名顾客都是3秒，每批次可以处理5名顾客。\n",
    "最终，我们只用一个线程就达到了相同的性能，而且代码很简单。\n",
    "\n",
    "\n"
   ]
  },
  {
   "cell_type": "code",
   "execution_count": 5,
   "metadata": {},
   "outputs": [
    {
     "name": "stdout",
     "output_type": "stream",
     "text": [
      "Goodmorning from Twisted developer\n",
      "Scheduling: Installation for Customer 0\n",
      "Scheduling: Installation for Customer 1\n",
      "Scheduling: Installation for Customer 2\n",
      "Scheduling: Installation for Customer 3\n",
      "Scheduling: Installation for Customer 4\n",
      "Scheduling: Installation for Customer 5\n",
      "Scheduling: Installation for Customer 6\n",
      "Scheduling: Installation for Customer 7\n",
      "Scheduling: Installation for Customer 8\n",
      "Scheduling: Installation for Customer 9\n",
      "Scheduling: Installation for Customer 10\n",
      "Scheduling: Installation for Customer 11\n",
      "Scheduling: Installation for Customer 12\n",
      "Scheduling: Installation for Customer 13\n",
      "Scheduling: Installation for Customer 14\n",
      "Bye from Twisted developer!\n",
      "Callback: Finished installation for Customer 0\n",
      "All done for Customer 0\n",
      "Callback: Finished installation for Customer 1\n",
      "All done for Customer 1\n",
      "Callback: Finished installation for Customer 2\n",
      "All done for Customer 2\n",
      "Callback: Finished installation for Customer 3\n",
      "All done for Customer 3\n",
      "Callback: Finished installation for Customer 4\n",
      "All done for Customer 4\n",
      "Callback: Finished installation for Customer 5\n",
      "All done for Customer 5\n",
      "Callback: Finished installation for Customer 6\n",
      "All done for Customer 6\n",
      "Callback: Finished installation for Customer 7\n",
      "All done for Customer 7\n",
      "Callback: Finished installation for Customer 8\n",
      "All done for Customer 8\n",
      "Callback: Finished installation for Customer 9\n",
      "All done for Customer 9\n",
      "Callback: Finished installation for Customer 10\n",
      "All done for Customer 10\n",
      "Callback: Finished installation for Customer 11\n",
      "All done for Customer 11\n",
      "Callback: Finished installation for Customer 12\n",
      "All done for Customer 12\n",
      "Callback: Finished installation for Customer 13\n",
      "All done for Customer 13\n",
      "Callback: Finished installation for Customer 14\n",
      "All done for Customer 14\n",
      "cost = 0:00:03.007122\n"
     ]
    }
   ],
   "source": [
    "import datetime\n",
    "from twisted.internet import reactor\n",
    "from twisted.internet import defer\n",
    "from twisted.internet import task\n",
    "\n",
    "@defer.inlineCallbacks\n",
    "def inline_install(customer):\n",
    "    \n",
    "    print(\"Scheduling: Installation for\", customer)\n",
    "    \n",
    "    yield task.deferLater(reactor, 3, lambda: None)\n",
    "    \n",
    "    print(\"Callback: Finished installation for\", customer)\n",
    "    print(\"All done for\", customer)\n",
    "\n",
    "# 同上例\n",
    "\n",
    "def twisted_developer_day(customers):\n",
    "    \n",
    "    print(\"Goodmorning from Twisted developer\")\n",
    "    work = [inline_install(customer) for customer in customers]\n",
    "    work = iter(work)  # 不加的话 list 会不可迭代 ？\n",
    "    \n",
    "    coop = task.Cooperator()\n",
    "    join = defer.DeferredList([coop.coiterate(work) for i in range(5)])  # 利用 task.Cooperator().coiterate 来限制并发\n",
    "    \n",
    "    join.addCallback(lambda _: reactor.stop())\n",
    "    \n",
    "    print(\"Bye from Twisted developer!\")\n",
    "\n",
    "twisted_developer_day([\"Customer %d\" % i for i in range(15)])\n",
    "start_time = datetime.datetime.now()\n",
    "reactor.run()\n",
    "end_time = datetime.datetime.now()\n",
    "print(\"cost = \" + str(end_time - start_time))"
   ]
  },
  {
   "cell_type": "markdown",
   "metadata": {},
   "source": [
    "我们现在看到，一共有五个顾客的处理窗口。  \n",
    "只有存在空窗口时，才能服务新顾客。  \n",
    "因为处理每名顾客都是3秒，每批次可以处理5名顾客。  \n",
    "最终，我们只用一个线程就达到了相同的性能，而且代码很简单。  \n",
    "\n"
   ]
  },
  {
   "cell_type": "code",
   "execution_count": null,
   "metadata": {},
   "outputs": [],
   "source": []
  }
 ],
 "metadata": {
  "kernelspec": {
   "display_name": "Python 3",
   "language": "python",
   "name": "python3"
  },
  "language_info": {
   "codemirror_mode": {
    "name": "ipython",
    "version": 3
   },
   "file_extension": ".py",
   "mimetype": "text/x-python",
   "name": "python",
   "nbconvert_exporter": "python",
   "pygments_lexer": "ipython3",
   "version": "3.7.3"
  }
 },
 "nbformat": 4,
 "nbformat_minor": 2
}
