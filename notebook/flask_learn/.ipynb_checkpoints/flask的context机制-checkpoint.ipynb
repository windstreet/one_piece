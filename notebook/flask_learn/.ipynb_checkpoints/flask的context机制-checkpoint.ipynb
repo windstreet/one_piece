{
 "cells": [
  {
   "cell_type": "markdown",
   "metadata": {},
   "source": [
    "# <center>Flask 的 Context 机制</center>\n",
    "\n",
    "Flask 的上下文机制包含：```App Context``` 和 ```Request Context```。  \n",
    "\n",
    "对于一个 Web 应用来说，“应用” 和 “请求” 的两级上下文在理念上是现实存在的，如果理解了它们，那么使用 Flask 并不会晦涩。\n",
    "\n",
    ">1）从一个 Flask App 读入配置并启动开始，就进入了 ```App Context```，在其中我们可以访问：配置文件、打开资源文件、通过路由规则反向构造 URL。  \n",
    "（通过访问 ```flask.current_app```）\n",
    ">\n",
    ">2）当一个请求进入开始被处理时，就进入了 ```Request Context```，在其中我们可以访问：请求携带的信息，比如 HTTP Method、表单域等。  \n",
    "（通过访问 ```flask.request```）\n",
    "\n",
    "Flask（Werkzeug）的 Context 基于 ```Thread Local``` 和代理模式实现，只要身处 Context 中就能用近似访问全局变量的的方式访问到上下文信息，例如 ```flask.current_app``` 和 ```flask.request```。\n",
    "\n",
    "![本地图片](/Users/admin/Desktop/image.png)\n",
    "![网络图片](https://upload-images.jianshu.io/upload_images/7672294-d5da34c3fa0d069c.png) \n",
    "\n",
    "---"
   ]
  },
  {
   "cell_type": "markdown",
   "metadata": {},
   "source": [
    "## Thread Local 的概念\n",
    "从面向对象设计的角度看，对象是保存“状态”的地方。Python 也是如此，一个对象的状态都被保存在对象携带的一个特殊字典中，可以通过 `vars` 函数拿到它。  \n",
    "\n",
    "Thread Local 则是一种特殊的对象，它的“状态”对线程隔离 —— 也就是说每个线程对一个 Thread Local 对象的修改都不会影响其他线程。这种对象的实现原理也非常简单，只要以线程的 ID 来保存多份状态字典即可，就像按照门牌号隔开的一格一格的信箱。\n",
    "\n",
    "在 Python 中获得一个这样的 Thread Local 最简单的方法是 `threading.local()`："
   ]
  },
  {
   "cell_type": "code",
   "execution_count": 1,
   "metadata": {},
   "outputs": [
    {
     "name": "stdout",
     "output_type": "stream",
     "text": [
      "1\n"
     ]
    }
   ],
   "source": [
    "import threading\n",
    "\n",
    "storage = threading.local()\n",
    "storage.foo = 1\n",
    "print(storage.foo)"
   ]
  },
  {
   "cell_type": "code",
   "execution_count": 2,
   "metadata": {},
   "outputs": [
    {
     "name": "stdout",
     "output_type": "stream",
     "text": [
      "2\n"
     ]
    }
   ],
   "source": [
    "class AnotherThread(threading.Thread):\n",
    "    def run(self):\n",
    "        storage.foo = 2\n",
    "        print(storage.foo)  # 在这个线程里已经修改了\n",
    "\n",
    "another = AnotherThread()\n",
    "another.start()"
   ]
  },
  {
   "cell_type": "code",
   "execution_count": 3,
   "metadata": {},
   "outputs": [
    {
     "name": "stdout",
     "output_type": "stream",
     "text": [
      "1\n"
     ]
    }
   ],
   "source": [
    "print(storage.foo)  # 但是在主线程里并没有修改"
   ]
  },
  {
   "cell_type": "markdown",
   "metadata": {},
   "source": [
    "这样来说，只要能构造出 Thread Local 对象，就能够让同一个对象在多个线程下做到状态隔离。这个“线程”不一定要是系统线程，也可以是用户代码中的其他调度单元，例如 Greenlet（协程）。\n",
    "\n",
    "---"
   ]
  },
  {
   "cell_type": "markdown",
   "metadata": {},
   "source": [
    "## Werkzeug 实现的 Local Stack 和 Local Proxy\n",
    "\n",
    "##### （详见相关文档）\n",
    "\n",
    "`Werkzeug` 没有直接使用 `threading.local`，而是自己实现了 `werkzeug.local.Local` 类。后者和前者有一些区别：\n",
    "\n",
    ">1)后者会在 `Greenlet` 可用的情况下优先使用 `Greenlet` 的 ID 而不是线程 ID，以支持 Gevent 或 Eventlet 的调度，前者只支持多线程调度； \n",
    ">\n",
    ">2)后者实现了 Werkzeug 定义的协议方法 `__release_local__`可以被 Werkzeug 自己的 `release_pool` 函数释放（析构）掉当前线程下的状态，前者没有这个能力。  \n",
    "\n",
    "除 **`Local`** 外`Werkzeug` 还实现了两种数据结构：__`LocalStack`__ 和 **`LocalProxy`**。\n",
    "\n",
    ">1)**`LocalStack`** 是用 ```Local``` 实现的栈结构，可以将对象推入、弹出，也可以快速拿到栈顶对象。当然，所有的修改都只在本线程可见。和 ```Local``` 一样，```LocalStack``` 也同样实现了支持 ```release_pool``` 的接口。  \n",
    ">\n",
    ">2)**`LocalProxy`** 则是一个典型的代理模式实现，它在构造时接受一个 ```callable``` 的参数（比如一个函数），这个参数被调用后的返回值本身应该是一个 ```Thread Local``` 对象。对一个 ```LocalProxy``` 对象的所有操作，包括属性访问、方法调用（当然方法调用就是属性访问）甚至是二元操作，都会转发到那个 ```callable``` 参数返回的 ```Thread Local``` 对象上。\n",
    "\n",
    "`LocalProxy` 的一个使用场景：\n",
    ">`LocalStack` 的 ```__call__``` 方法。比如 ```my_local_stack``` 是一个 ```LocalStack``` 实例，那么 ```my_local_stack()``` 能返回一个 ```LocalProxy``` 对象，这个对象始终指向 ```my_local_stack``` 的栈顶元素。如果栈顶元素不存在，访问这个 ```LocalProxy``` 的时候会抛出 ```RuntimeError```。\n",
    "\n",
    "---"
   ]
  },
  {
   "cell_type": "markdown",
   "metadata": {},
   "source": [
    "## Flask 基于 LocalStack 的 Context\n",
    "Flask 是一个基于 Werkzeug 实现的框架，所以 Flask 的 `App Context` 和 `Request Context` 也理所当然地基于 Werkzeug 的 `LocalStack` 实现。\n",
    "\n",
    "在概念上：\n",
    ">***`App Context`*** 代表了“应用级别的上下文”，比如配置文件中的数据库连接信息；  \n",
    ">___`Request Context`___ 代表了“请求级别的上下文”，比如当前访问的 URL。\n",
    "\n",
    "这两种上下文对象的类定义在 `flask.ctx` 中，它们的用法是推入 `flask.globals` 中创建的 `_app_ctx_stack` 和 `_request_ctx_stack` 这两个 单例 LocalStack 中。因为 LocalStack 的状态是线程隔离的，而 Web 应用中每个线程（或 Greenlet）同时只处理一个请求，所以 `App Context` 对象和 `Request Context` 对象也是请求间隔离的。\n",
    "\n",
    "当 `app = Flask(__name__)` 构造出一个 Flask App 时，App Context 并不会被自动推入 Stack 中。所以此时 LocalStack 的栈顶是空的，`current_app` 也是 unbound 状态。"
   ]
  },
  {
   "cell_type": "code",
   "execution_count": 4,
   "metadata": {},
   "outputs": [],
   "source": [
    "from flask import Flask\n",
    "from flask.globals import _app_ctx_stack, _request_ctx_stack\n",
    "\n",
    "app = Flask(__name__)\n",
    "\n",
    "_app_ctx_stack.top\n",
    "_request_ctx_stack.top\n"
   ]
  },
  {
   "cell_type": "code",
   "execution_count": 5,
   "metadata": {},
   "outputs": [
    {
     "data": {
      "text/plain": [
       "<LocalProxy unbound>"
      ]
     },
     "execution_count": 5,
     "metadata": {},
     "output_type": "execute_result"
    }
   ],
   "source": [
    "_app_ctx_stack()"
   ]
  },
  {
   "cell_type": "code",
   "execution_count": 6,
   "metadata": {},
   "outputs": [
    {
     "data": {
      "text/plain": [
       "<LocalProxy unbound>"
      ]
     },
     "execution_count": 6,
     "metadata": {},
     "output_type": "execute_result"
    }
   ],
   "source": [
    "from flask import current_app\n",
    "current_app"
   ]
  },
  {
   "cell_type": "markdown",
   "metadata": {},
   "source": [
    "\n",
    "这也是一些 Flask 用户可能被坑的地方。 \n",
    ">比如编写一个离线脚本时，如果直接在一个 Flask-SQLAlchemy 写成的 Model 上调用 `User.query.get(user_id)`，就会遇到 RuntimeError。\n",
    ">\n",
    ">因为此时 App Context 还没被推入栈中，而 Flask-SQLAlchemy 需要数据库连接信息时就会去取 `current_app.config`，**current_app 指向的却是 `_app_ctx_stack` 为空的栈顶**。\n",
    "\n",
    "解决的办法是运行脚本正文之前，先将 App 的 App Context 推入栈中，栈顶不为空后 current_app 这个 Local Proxy 对象就自然能将 “取 config 属性” 的动作转发到当前 App 上了：\n"
   ]
  },
  {
   "cell_type": "code",
   "execution_count": 7,
   "metadata": {},
   "outputs": [
    {
     "data": {
      "text/plain": [
       "<flask.ctx.AppContext at 0x112877048>"
      ]
     },
     "execution_count": 7,
     "metadata": {},
     "output_type": "execute_result"
    }
   ],
   "source": [
    "ctx = app.app_context()\n",
    "ctx.push()  # 入栈\n",
    "_app_ctx_stack.top"
   ]
  },
  {
   "cell_type": "code",
   "execution_count": 8,
   "metadata": {},
   "outputs": [
    {
     "data": {
      "text/plain": [
       "True"
      ]
     },
     "execution_count": 8,
     "metadata": {},
     "output_type": "execute_result"
    }
   ],
   "source": [
    "_app_ctx_stack.top is ctx"
   ]
  },
  {
   "cell_type": "code",
   "execution_count": 9,
   "metadata": {},
   "outputs": [
    {
     "data": {
      "text/plain": [
       "<Flask '__main__'>"
      ]
     },
     "execution_count": 9,
     "metadata": {},
     "output_type": "execute_result"
    }
   ],
   "source": [
    "current_app"
   ]
  },
  {
   "cell_type": "code",
   "execution_count": 10,
   "metadata": {},
   "outputs": [],
   "source": [
    "ctx.pop()  # 出栈"
   ]
  },
  {
   "cell_type": "code",
   "execution_count": 11,
   "metadata": {},
   "outputs": [
    {
     "data": {
      "text/plain": [
       "<LocalProxy unbound>"
      ]
     },
     "execution_count": 11,
     "metadata": {},
     "output_type": "execute_result"
    }
   ],
   "source": [
    "current_app"
   ]
  },
  {
   "cell_type": "markdown",
   "metadata": {},
   "source": [
    "那么为什么在应用运行时不需要手动 `app_context().push()` 呢？因为 Flask App 在作为 WSGI Application 运行时，会在每个请求进入的时候将 请求上下文 推入 `_request_ctx_stack` 中，而请求上下文一定是 App 上下文之中，所以推入部分的逻辑有这样一条：\n",
    ">如果发现 `_app_ctx_stack` 为空，则隐式地推入一个 App 上下文。\n",
    "\n",
    "所以，请求中是不需要手动推上下文入栈的，但是离线脚本需要手动推入 App Context。如果没有什么特殊困难，我更建议用 Flask-Script 来写离线任务。\n",
    "\n",
    "---"
   ]
  },
  {
   "cell_type": "markdown",
   "metadata": {},
   "source": [
    "## 两个疑问\n",
    "\n",
    ">1）为什么 App Context 要独立出来：既然在 Web 应用运行时里，App Context 和 Request Context 都是 Thread Local 的，那么为什么还要独立二者？\n",
    ">\n",
    ">2）为什么要放在“栈”里：在 Web 应用运行时中，一个线程同时只处理一个请求，那么 _req_ctx_stack 和 _app_ctx_stack 肯定都是只有一个栈顶元素的。那么为什么还要用“栈”这种结构？\n",
    ">\n",
    ">我最初也被这两个疑问困惑过。后来看了一些资料，就明白了 Flask 为何要设计成这样。这两个做法给予我们 多个 Flask App 共存 和 非 Web Runtime 中灵活控制 Context 的可能性。\n",
    "\n",
    "我们知道对一个 Flask App 调用 app.run() 之后，进程就进入阻塞模式并开始监听请求。此时是不可能再让另一个 Flask App 在主线程运行起来的。那么还有哪些场景需要多个 Flask App 共存呢？前面提到了，一个 Flask App 实例就是一个 WSGI Application，那么 WSGI Middleware 是允许使用组合模式的，比如：\n",
    "\n",
    "```python\n",
    "from werkzeug.wsgi import DispatcherMiddleware\n",
    "from biubiu.app import create_app\n",
    "from biubiu.admin.app import create_app as create_admin_app\n",
    "\n",
    "application = DispatcherMiddleware(create_app(), {\n",
    "    '/admin': create_admin_app()\n",
    "})\n",
    "```\n",
    "\n",
    "\n",
    "这个例子就利用 Werkzeug 内置的 Middleware 将两个 Flask App 组合成一个一个 WSGI Application。这种情况下两个 App 都同时在运行，只是根据 URL 的不同而将请求分发到不同的 App 上处理。\n",
    "\n",
    ">需要注意的是，这种用法和 Flask 的 Blueprint 是有区别的：\n",
    ">>Blueprint 虽然和这种用法很类似，但前者自己没有 App Context，只是同一个 Flask App 内部整理资源的一种方式，所以多个 Blueprint 可能共享了同一个 Flask App；\n",
    ">>\n",
    ">>后者面向的是所有 WSGI Application，而不仅仅是 Flask App，即使是把一个 Django App 和一个 Flask App 用这种用法整合起来也是可行的。\n",
    "\n",
    "如果仅仅在 Web Runtime 中，多个 Flask App 同时工作倒不是问题。毕竟每个请求被处理的时候是身处不同的 Thread Local 中的。但是 Flask App 不一定仅仅在 Web Runtime 中被使用 —— 有两个典型的场景是在非 Web 环境需要访问上下文代码的，一个是离线脚本（前面提到过），另一个是测试。这两个场景即所谓的“Running code outside of a request”。\n",
    "\n",
    "---"
   ]
  },
  {
   "cell_type": "markdown",
   "metadata": {},
   "source": [
    "## 在非 Web 环境运行 Flask 关联的代码\n",
    "离线脚本或者测试这类非 Web 环境 和 Web 环境不同\n",
    ">前者一般只在主线程运行。\n",
    "\n",
    "设想，一个离线脚本需要操作两个 Flask App 关联的上下文，应该怎么办呢？这时候栈结构的 App Context 优势就发挥出来了。\n",
    "\n",
    "```python\n",
    "from biubiu.app import create_app\n",
    "from biubiu.admin.app import create_app as create_admin_app\n",
    "\n",
    "app = create_app()\n",
    "admin_app = create_admin_app()\n",
    "\n",
    "def copy_data():\n",
    "    with app.app_context():\n",
    "        data = read_data()  # fake function for demo\n",
    "        with admin_app.app_context():\n",
    "            write_data(data)  # fake function for demo\n",
    "        mark_data_copied()  # fake function for demo\n",
    "```\n",
    "\n",
    "&emsp;&emsp;无论有多少个 App，只要主动去 Push 它的 App Context，Context Stack 中就会累积起来。这样，_**栈顶永远是当前操作的 App Context**_。\n",
    "<br>当一个 App Context 结束的时候，相应的栈顶元素也随之出栈。\n",
    "<br>如果在执行过程中抛出了异常，对应的 App Context 中注册的 `teardown` 函数被传入带有异常信息的参数。\n",
    "\n",
    "这么一来就解释了两个疑问：\n",
    ">在这种单线程运行环境中，只有栈结构才能保存多个 Context 并在其中定位出哪个才是“当前”。而离线脚本只需要 App 关联的上下文，不需要构造出请求，所以 App Context 也应该和 Request Context 分离。\n",
    "\n",
    "另一个手动推入 Context 的场景是测试。测试中我们可能会需要构造一个请求，并验证相关的状态是否符合预期。例如：\n",
    "\n",
    "```python\n",
    "def test_app():\n",
    "    app = create_app()\n",
    "    client = app.test_client()\n",
    "    resp = client.get('/')\n",
    "    assert 'Home' in resp.data\n",
    "```\n",
    "\n",
    "这里调用 client.get 时，Request Context 就被推入了。其特点和 App Context 非常类似，这里不再赘述。\n",
    "\n",
    "---"
   ]
  },
  {
   "cell_type": "markdown",
   "metadata": {},
   "source": [
    "## 为何建议使用 App Factory 模式\n",
    "\n",
    "单例模式：\n",
    "```python\n",
    "from flask import Flask, render_template\n",
    "from flask_sqlalchemy import SQLAlchemy\n",
    "from flask_login import LoginManager\n",
    "\n",
    "app = Flask(__name__)\n",
    "db = SQLAlchemy(app)\n",
    "login_manager = LoginManager()\n",
    "\n",
    "@app.route('/')\n",
    "def home():\n",
    "    return render_template('home.html')\n",
    "```\n",
    "\n",
    "除非是应用简单到不需要 Web 层测试，否则还是尽量使用 **工厂模式** 比较好。况且配合 Blueprint 的情况下，App Factory 还能帮助我们良好地组织应用结构：\n",
    "\n",
    "```python\n",
    "from flask import Flask\n",
    "from werkzeug.utils import import_string\n",
    "\n",
    "extensions = [\n",
    "    'happytree.ext:db',\n",
    "    'happytree.ext:login_manager',\n",
    "]\n",
    "blueprints = [\n",
    "    'happytree.views:bp',\n",
    "]\n",
    "\n",
    "\n",
    "def create_app():\n",
    "    app = Flask(__name__)\n",
    "    for ext_name in extensions:\n",
    "        ext = import_string(ext_name)\n",
    "        ext.init_app(app)\n",
    "    for bp_name in blueprints:\n",
    "        bp = import_string(bp_name)\n",
    "        app.register_blueprint(bp)\n",
    "    return app\n",
    "```\n",
    "\n",
    "这样就能彻底摆脱 app.py 和 View 模块“互相 Import”的纠结了。\n",
    "\n",
    "<br><br><br>\n",
    "本文参考：\n",
    ">https://blog.tonyseek.com/post/the-context-mechanism-of-flask/"
   ]
  },
  {
   "cell_type": "code",
   "execution_count": null,
   "metadata": {},
   "outputs": [],
   "source": []
  }
 ],
 "metadata": {
  "kernelspec": {
   "display_name": "Python [conda env:pytorch] *",
   "language": "python",
   "name": "conda-env-pytorch-py"
  },
  "language_info": {
   "codemirror_mode": {
    "name": "ipython",
    "version": 3
   },
   "file_extension": ".py",
   "mimetype": "text/x-python",
   "name": "python",
   "nbconvert_exporter": "python",
   "pygments_lexer": "ipython3",
   "version": "3.7.3"
  }
 },
 "nbformat": 4,
 "nbformat_minor": 2
}
