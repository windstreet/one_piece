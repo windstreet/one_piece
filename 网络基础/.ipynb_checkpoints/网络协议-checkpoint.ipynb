{
 "cells": [
  {
   "cell_type": "markdown",
   "metadata": {},
   "source": [
    "# HTTP、SSL/TSL、HTTPS、TCP、UDP\n",
    "\n",
    "## 1）HTTP\n",
    "\n",
    "`HTTP` 是一个网络协议，是专门用来传输 Web 内容，明文传输。\n",
    "\n",
    "---\n",
    "\n",
    "## 2）HTTP 和 TCP 之间的关系\n",
    "\n",
    "- `TCP` 被称为 “传输层协议”。\n",
    "- `HTTP` 被称为 “应用层协议”，HTTP 协议需要依靠 TCP 协议来传输数据。 \n",
    "- 传输层主要有两个协议：`TCP` 和 `UDP`。TCP 比 UDP 更可靠。\n",
    "\n",
    "### 2.1）HTTP 协议如何使用 TCP 连接\n",
    "\n",
    "- HTTP对TCP连接的使用分两种：`短连接` 与 `长连接`。\n",
    "- 长连接，又称“持久连接”（“Keep-Alive”或“Persistent Connection”），最为常用，因其反复传输的资源小。\n",
    "\n",
    "---\n",
    "\n",
    "## 3）SSL/TLS\n",
    "\n",
    "- HTTP 协议是明文的，存在很多缺点——如传输内容会被偷窥（嗅探）和篡改。发明 SSL 协议，就是为了解决这些问题。\n",
    "- `SSL` (“Secure Sockets Layer”，安全套接层) 因为应用广泛，已经成为互联网上的事实标准。\n",
    "- IETF 将SSL标准化之后改名为 `TLS`（“Transport Layer Security”，传输层安全协议）。TLS是SSL的继承协议，SSL与TLS为同一种东西为不同阶段的叫法。\n",
    "\n",
    "SSL 直接在传输控制协议 (TCP) 基础上高效运行，像安全毯一样发挥着重要防护作用。\n",
    "\n",
    "\n",
    "\n",
    "---\n",
    "\n",
    "## 4）HTTPS\n",
    "\n",
    "HTTPS 协议，就是“HTTP 协议”和“SSL/TLS 协议”的组合。\n",
    " \n",
    "---\n",
    "\n",
    "[参考](https://my.oschina.net/foreverich/blog/402252)\n",
    "https://blog.csdn.net/joye123/article/details/82968125"
   ]
  },
  {
   "cell_type": "code",
   "execution_count": null,
   "metadata": {},
   "outputs": [],
   "source": []
  }
 ],
 "metadata": {
  "kernelspec": {
   "display_name": "Python 3",
   "language": "python",
   "name": "python3"
  },
  "language_info": {
   "codemirror_mode": {
    "name": "ipython",
    "version": 3
   },
   "file_extension": ".py",
   "mimetype": "text/x-python",
   "name": "python",
   "nbconvert_exporter": "python",
   "pygments_lexer": "ipython3",
   "version": "3.7.3"
  }
 },
 "nbformat": 4,
 "nbformat_minor": 2
}
