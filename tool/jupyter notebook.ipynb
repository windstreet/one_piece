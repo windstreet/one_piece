{
 "cells": [
  {
   "cell_type": "markdown",
   "metadata": {},
   "source": [
    "『 jupyter notebook 』\n",
    "\n",
    "其实：Notebook 就是个扩展名为 .ipynb 的大型 JSON 文件。\n",
    "小技巧：\n",
    "\t重启 & 运行所有：会重置序列号;\n",
    "\n",
    "pip3 install ipython\t\t# 安装 ipython3 \n",
    "\n",
    "* 1）安装\n",
    "\t安装 Jupyter 的最简单方法是使用 Anaconda。\n",
    "\n",
    "\tconda install jupyter notebook\n",
    "\t或者\n",
    "\tpip install jupyter notebook\n",
    "\n",
    "* 2）启动 Jupyter notebook \n",
    "\t$ jupyter notebook\n",
    "\n",
    "\n",
    "* 3）常用工具包\n",
    "    * 3.1）环境自动关联包\n",
    "\t\tconda install nb_conda\t\t# 该包可以将conda中创建的环境自动关联到你的notebook中。\n",
    "\n",
    "    * 3.2）代码自动补全包\n",
    "\t\tconda install pyreadline \n",
    "\n",
    "\n",
    "\n",
    "* 快捷键\n",
    "shift + enter\t\t运行该单元格\n",
    "\n",
    "\n",
    "\n",
    "\n",
    "markdown 规则\n",
    "两个空格以后，回车就可以换行\n",
    "或者<br>"
   ]
  },
  {
   "cell_type": "code",
   "execution_count": null,
   "metadata": {},
   "outputs": [],
   "source": []
  }
 ],
 "metadata": {
  "kernelspec": {
   "display_name": "Python [conda env:pytorch] *",
   "language": "python",
   "name": "conda-env-pytorch-py"
  },
  "language_info": {
   "codemirror_mode": {
    "name": "ipython",
    "version": 3
   },
   "file_extension": ".py",
   "mimetype": "text/x-python",
   "name": "python",
   "nbconvert_exporter": "python",
   "pygments_lexer": "ipython3",
   "version": "3.7.3"
  }
 },
 "nbformat": 4,
 "nbformat_minor": 2
}
