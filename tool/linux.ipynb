{
 "cells": [
  {
   "cell_type": "markdown",
   "metadata": {},
   "source": [
    "Linux\n",
    "\n",
    "\n",
    "******************************************************    远程访问 ES    *************************************************************************************\n",
    "lsof -i:9200    ————> 查看9200端口是否被某程序占用 （ 本地有用这个端口 ）\n",
    "lsof -i:9100    ————>  9100端口没用\n",
    "\n",
    "\n",
    "ssh -NL 9100:127.0.0.1:9200 root@120.26.236.132      ————> 将9100端口与远程服务器对接 （通过ssh来连接，远程服务器得验证我本机的ssh key），第一次创建不成功，key出问题了。\n",
    "\n",
    "\n",
    "vim ~/.ssh/id_rsa.pub    ————> 查看本机的  ssh key   ( 先按 Esc 再按 q几次， 输入  :q   退出查看窗口 )\n",
    "\n",
    "\n",
    "cd ~/.ssh                       ————>  以下步骤为修改本机的 ssh key\n",
    "ls\n",
    "输出（id_rsa      id_rsa.pub  known_hosts）\n",
    "rm id_rsa                       ————>  删除这2个文件\n",
    "rm id_rsa.pub\n",
    "history                           ————>  查看历史输入\n",
    "ssh-keygen -t rsa -C \"931798845@qq.com\"       ————>  创建新的 ssh key\n",
    "ls\n",
    "输出（id_rsa      id_rsa.pub  known_hosts）\n",
    "vim id_rsa.pub               ————> 查看新修改的  ssh key \n",
    "\n",
    "\n",
    "ssh -NL 9100:127.0.0.1:9200 root@120.26.236.132     ————> 将9100端口与远程服务器对接，创建成功。\n",
    "\n",
    "\n",
    "lsof -i:9100       ————>  查看9100端口，发现被ssh占用了\n",
    "COMMAND     PID  USER   FD   TYPE             DEVICE SIZE/OFF NODE NAME\n",
    "Google      308 admin  101u  IPv6 0xe2d406f28e340e65      0t0  TCP localhost:51871->localhost:hp-pdl-datastr (CLOSE_WAIT)\n",
    "Google      308 admin  176u  IPv6 0xe2d406f28e3413c5      0t0  TCP localhost:51872->localhost:hp-pdl-datastr (CLOSE_WAIT)\n",
    "Google      308 admin  178u  IPv6 0xe2d406f28e341e85      0t0  TCP localhost:51873->localhost:hp-pdl-datastr (CLOSE_WAIT)\n",
    "Google      308 admin  180u  IPv6 0xe2d406f28e3423e5      0t0  TCP localhost:51874->localhost:hp-pdl-datastr (CLOSE_WAIT)\n",
    "Google      308 admin  184u  IPv6 0xe2d406f28ab57905      0t0  TCP localhost:51875->localhost:hp-pdl-datastr (CLOSE_WAIT)\n",
    "Google      308 admin  194u  IPv6 0xe2d406f28ab57e65      0t0  TCP localhost:51876->localhost:hp-pdl-datastr (CLOSE_WAIT)\n",
    "ssh       24042 admin    6u  IPv6 0xe2d406f28e33f385      0t0  TCP localhost:hp-pdl-datastr (LISTEN)\n",
    "ssh       24042 admin    7u  IPv4 0xe2d406f28d82ec8d      0t0  TCP localhost:hp-pdl-datastr (LISTEN)\n",
    "\n",
    "kill -9 24042      ————>  关闭pid为24042的程序，即退出与远程服务器的对接\n",
    "lsof -i:9100  \n",
    "COMMAND   PID  USER   FD   TYPE             DEVICE SIZE/OFF NODE NAME\n",
    "Google    308 admin  101u  IPv6 0xe2d406f28e340e65      0t0  TCP localhost:51871->localhost:hp-pdl-datastr (CLOSE_WAIT)\n",
    "Google    308 admin  176u  IPv6 0xe2d406f28e3413c5      0t0  TCP localhost:51872->localhost:hp-pdl-datastr (CLOSE_WAIT)\n",
    "Google    308 admin  178u  IPv6 0xe2d406f28e341e85      0t0  TCP localhost:51873->localhost:hp-pdl-datastr (CLOSE_WAIT)\n",
    "Google    308 admin  180u  IPv6 0xe2d406f28e3423e5      0t0  TCP localhost:51874->localhost:hp-pdl-datastr (CLOSE_WAIT)\n",
    "Google    308 admin  184u  IPv6 0xe2d406f28ab57905      0t0  TCP localhost:51875->localhost:hp-pdl-datastr (CLOSE_WAIT)\n",
    "Google    308 admin  194u  IPv6 0xe2d406f28ab57e65      0t0  TCP localhost:51876->localhost:hp-pdl-datastr (CLOSE_WAIT)\n",
    "\n",
    "ssh -NL 9100:127.0.0.1:9200 root@120.26.236.132      ————> 前台启动链接\n",
    "packet_write_wait: Connection to 120.26.236.132: Broken pipe    ————> 暴露链接中断，需要重新启动\n",
    "\n",
    "ssh -fNL 9100:127.0.0.1:9200 root@120.26.236.132  ————> 多一个 f 表示后台启动，（不推荐，不易于发现链接的断开）\n",
    "lsof -i:9100\n",
    "COMMAND   PID  USER   FD   TYPE             DEVICE SIZE/OFF NODE NAME\n",
    "ssh     75656 admin    6u  IPv6 0xe2d406f28b4f0905      0t0  TCP localhost:hp-pdl-datastr (LISTEN)\n",
    "ssh       75656 admin    7u  IPv4 0xe2d406f28cbde395      0t0  TCP localhost:hp-pdl-datastr (LISTEN)\n",
    "\n",
    "效果图：\n",
    "￼\n",
    "*********************************************************************************************************************************************************\n",
    "\n",
    "\n",
    "怎么清理端口？ 在命令行里\n",
    "\n",
    "\n",
    "\n"
   ]
  },
  {
   "cell_type": "code",
   "execution_count": null,
   "metadata": {},
   "outputs": [],
   "source": []
  },
  {
   "cell_type": "markdown",
   "metadata": {},
   "source": [
    "{ 常用指令 }\n",
    "\n",
    "* 获取ssh key\n",
    "cat ~/.ssh/id_rsa.pub  \n",
    "\n",
    "* 端口被占用\n",
    "ps -fA | grep python\n",
    "kill -9 79200\n",
    "\n",
    "* 查看ip\n",
    "ifconfig\n",
    "\n",
    "\n",
    "\n",
    "\n",
    "查看你的系统支持哪几种shell\n",
    "cat /etc/shells\n",
    "\n",
    "将当前用户使用的shell切换成zsh（会提示输入密码）\n",
    "chsh -s /bin/zsh\n",
    "\n",
    "\n"
   ]
  },
  {
   "cell_type": "code",
   "execution_count": null,
   "metadata": {},
   "outputs": [],
   "source": []
  },
  {
   "cell_type": "markdown",
   "metadata": {},
   "source": [
    "ssh \n",
    "\n",
    "将本地 0.0.0.0:8000 的服务（switch），反向代理到 目标服务器（114.116.23.219）的 4999 端口\n",
    "ssh -NR 0.0.0.0:4999:0.0.0.0:8000 root@114.116.23.219 -vv"
   ]
  },
  {
   "cell_type": "code",
   "execution_count": null,
   "metadata": {},
   "outputs": [],
   "source": []
  }
 ],
 "metadata": {
  "kernelspec": {
   "display_name": "Python [conda env:pytorch] *",
   "language": "python",
   "name": "conda-env-pytorch-py"
  },
  "language_info": {
   "codemirror_mode": {
    "name": "ipython",
    "version": 3
   },
   "file_extension": ".py",
   "mimetype": "text/x-python",
   "name": "python",
   "nbconvert_exporter": "python",
   "pygments_lexer": "ipython3",
   "version": "3.7.3"
  }
 },
 "nbformat": 4,
 "nbformat_minor": 2
}
