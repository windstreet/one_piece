{
 "cells": [
  {
   "cell_type": "markdown",
   "metadata": {},
   "source": [
    "# iTerm2 快捷键   \n",
    "\n",
    "显示时间轴：command + shift + e\n",
    "\n",
    "\n",
    "## 标签：\n",
    "\n",
    "+ 新建标签：command + t   \n",
    "+ 关闭标签：command + w     \n",
    "+ 切换标签：command + 数字 / 左右方向键  \n",
    "+ 切换全屏：command + enter      &nbsp;&nbsp;&nbsp;&nbsp;&nbsp;&nbsp;    （再按一次 command + enter  即可退出全屏）   \n",
    "\n",
    "查找：command + f\n",
    "\n",
    "## 分屏：\n",
    "\n",
    "+ 垂直分屏：command + d  \n",
    "+ 水平分屏：command + shift + d  \n",
    "+ 切换屏幕：command + option + 方向键  \n",
    "\n",
    "查看历史命令：command + ;\n",
    "\n",
    "查看剪贴板历史：command + shift + h\n",
    "\n",
    "---\n",
    "\n",
    "[参考](https://cnbin.github.io/blog/2015/06/20/iterm2-kuai-jie-jian-da-quan/)\n",
    "\n",
    "\n",
    "---\n",
    "\n",
    "\n",
    "\n",
    "\n",
    "\n",
    "## Oh My Zsh \n",
    "\n",
    "### 1）查看默认自带的主题名称\n",
    "\n",
    "`cd ~/.oh-my-zsh/themes && ls`  \n",
    "\n",
    "[更多主题样式](https://github.com/robbyrussell/oh-my-zsh/wiki/Themes)\n",
    "\n",
    "\n",
    "### 2）修该主题\n",
    "\n",
    "`vim ~/.zshrc`\n",
    "\n",
    ">`ZSH_THEME=\"bira\"`  \n",
    "\n",
    "`source ~/.zshrc`\n",
    "\n",
    "### 3）参考\n",
    "[Oh My Zsh，安装，主题配置方法](https://zhuanlan.zhihu.com/p/35283688)"
   ]
  },
  {
   "cell_type": "code",
   "execution_count": null,
   "metadata": {},
   "outputs": [],
   "source": []
  }
 ],
 "metadata": {
  "kernelspec": {
   "display_name": "Python 3",
   "language": "python",
   "name": "python3"
  },
  "language_info": {
   "codemirror_mode": {
    "name": "ipython",
    "version": 3
   },
   "file_extension": ".py",
   "mimetype": "text/x-python",
   "name": "python",
   "nbconvert_exporter": "python",
   "pygments_lexer": "ipython3",
   "version": "3.7.3"
  }
 },
 "nbformat": 4,
 "nbformat_minor": 2
}
