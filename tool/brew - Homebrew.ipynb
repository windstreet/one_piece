{
 "cells": [
  {
   "cell_type": "markdown",
   "metadata": {},
   "source": [
    "『 brew - Homebrew 』\n",
    "\n",
    "* 1）基本用法查询\n",
    "\n",
    "╭─admin@lrw  ~\n",
    "╰─$ brew\n",
    "Example usage（示例使用）:\n",
    "  brew search [TEXT|/REGEX/]\n",
    "  brew info [FORMULA...]\n",
    "  brew install FORMULA...\n",
    "  brew update\n",
    "  brew upgrade [FORMULA...]\n",
    "  brew uninstall FORMULA...\n",
    "  brew list [FORMULA...]\n",
    "\n",
    "Troubleshooting（故障排除）:\n",
    "  brew config\t\t\t\t\t\t\t\t# Homebrew 的配置信息（版本，安装位置等）  \n",
    "  brew doctor\n",
    "  brew install --verbose --debug FORMULA\n",
    "\n",
    "Contributing（贡献）:\n",
    "  brew create [URL [--no-fetch]]\n",
    "  brew edit [FORMULA...]\n",
    "\n",
    "Further help（更多帮助）:\n",
    "  brew commands\t\t\t# 打印 brew 的所有命令的名称\n",
    "  brew help [COMMAND]\t\t# 介绍某一命令\n",
    "  man brew\t\t\t\t# 介绍 brew 所有命令的详细内容\n",
    "  https://docs.brew.sh\t\t# 文档\n",
    "╭─admin@lrw  ~\n",
    "╰─$\n",
    "\n"
   ]
  },
  {
   "cell_type": "code",
   "execution_count": null,
   "metadata": {},
   "outputs": [],
   "source": []
  }
 ],
 "metadata": {
  "kernelspec": {
   "display_name": "Python [conda env:pytorch] *",
   "language": "python",
   "name": "conda-env-pytorch-py"
  },
  "language_info": {
   "codemirror_mode": {
    "name": "ipython",
    "version": 3
   },
   "file_extension": ".py",
   "mimetype": "text/x-python",
   "name": "python",
   "nbconvert_exporter": "python",
   "pygments_lexer": "ipython3",
   "version": "3.7.3"
  }
 },
 "nbformat": 4,
 "nbformat_minor": 2
}
