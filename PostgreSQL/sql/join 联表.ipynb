{
 "cells": [
  {
   "attachments": {
    "image.png": {
     "image/png": "[encoded data removed]"
    }
   },
   "cell_type": "markdown",
   "metadata": {},
   "source": [
    "## 1）left join:\n",
    "\n",
    "返回包括左表中的所有的记录和右表连接字段相等的记录\n",
    "\n",
    "```sql\n",
    "select * from A left join B on A.id = B.id\n",
    "```\n",
    "\n",
    "left join 是以左表为主表，所以只要左表有数据，不管右表有没有数据（如果右表没有数据则为null）。\n",
    "\n",
    "## 2）right join:\n",
    "\n",
    "返回包括右表中的所有的记录和左表连接字段相等的记录\n",
    "\n",
    "```sql\n",
    "select * from A right join B on A.id = B.id\n",
    "```\n",
    "\n",
    "## 3）inner join:\n",
    "等值连接，只返回两个表中连接字段相等的值（交集）\n",
    "\n",
    "![image.png](attachment:image.png)\n"
   ]
  },
  {
   "cell_type": "code",
   "execution_count": null,
   "metadata": {},
   "outputs": [],
   "source": []
  }
 ],
 "metadata": {
  "kernelspec": {
   "display_name": "Python 3",
   "language": "python",
   "name": "python3"
  },
  "language_info": {
   "codemirror_mode": {
    "name": "ipython",
    "version": 3
   },
   "file_extension": ".py",
   "mimetype": "text/x-python",
   "name": "python",
   "nbconvert_exporter": "python",
   "pygments_lexer": "ipython3",
   "version": "3.7.3"
  }
 },
 "nbformat": 4,
 "nbformat_minor": 2
}
