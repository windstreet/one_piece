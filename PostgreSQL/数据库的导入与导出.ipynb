{
 "cells": [
  {
   "cell_type": "markdown",
   "metadata": {},
   "source": [
    "pg_restore --jobs=20  /Users/admin/Desktop/dump-weld-2018-11-19-181036.min.pg_dump -d weld_backend_18_11_19 -U admin -O\n",
    "\n",
    "\n",
    "## 1）导出 .sql 文件\n",
    "`pg_dump -U admin -f /Users/admin/Desktop/learn_test.sql learn`   \n",
    "> -U admin：admin 为用户名  \n",
    "> learn：被导数据库\n",
    "\n",
    "`psql -U admin -f /Users/admin/Desktop/learn_test.sql learn_test`\n",
    "> learn_test：即将被导入的数据库\n",
    "\n",
    "\n",
    "\n",
    "## 2）导出自定义格式的文件，不一定要以 .pg_dump 为结尾，可以随意起\n",
    "\n",
    "参考：http://www.postgres.cn/docs/9.3/app-pgdump.html\n",
    "\n",
    "`pg_dump -Fc learn > /Users/admin/Desktop/test.min.pg_dump`  \n",
    "`pg_restore -d learn_test /Users/admin/Desktop/test.min.pg_dump`  \n",
    "\n",
    "\n",
    "    PostgreSQL自身有两种大版本升级(比如从pg9.2到pg9.4,可以跨一个或多个大版本)的方法：\n",
    "       1.通过pg_upgrede升级.(该方法对数据量较大时，速度更快)\n",
    "       2.先从老版本执行pg_dump，再到新版本执行pg_restore.\n",
    "\n",
    "---\n",
    "\n",
    "## 补充：操作记录 20190624\n",
    "pg_dump -Fc overlord > /Users/admin/Desktop/database/overlord_20190624.min.pg_dump  \n",
    "pg_restore -d overlord_test /Users/admin/Desktop/database/overlord_20190624.min.pg_dump  \n",
    "\n",
    "\n",
    "pg_dump -Fc switch_test > /Users/admin/Desktop/database/switch_20190624.min.pg_dump  \n",
    "pg_dump -Fc aide_production > /Users/admin/Desktop/database/aide_backend_20190624.min.pg_dump  \n",
    "pg_dump -Fc weld_backend_18_11_19 > /Users/admin/Desktop/database/weld_backend_20190624.min.pg_dump  "
   ]
  },
  {
   "cell_type": "code",
   "execution_count": null,
   "metadata": {},
   "outputs": [],
   "source": []
  }
 ],
 "metadata": {
  "kernelspec": {
   "display_name": "Python 3",
   "language": "python",
   "name": "python3"
  },
  "language_info": {
   "codemirror_mode": {
    "name": "ipython",
    "version": 3
   },
   "file_extension": ".py",
   "mimetype": "text/x-python",
   "name": "python",
   "nbconvert_exporter": "python",
   "pygments_lexer": "ipython3",
   "version": "3.7.3"
  }
 },
 "nbformat": 4,
 "nbformat_minor": 2
}
