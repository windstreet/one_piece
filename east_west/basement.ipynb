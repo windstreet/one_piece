{
 "cells": [
  {
   "cell_type": "markdown",
   "metadata": {},
   "source": [
    "<< basement 项目 >>\n",
    "\n",
    "\n",
    "\n",
    "\n",
    "\n",
    "系统中同时有 python2和 python3，怎么让 ipython 选择不同的版本启动？\n",
    "\n",
    "先使用pip2 -V 和 pip3 -V 确认对应的python版本正确\n",
    "之后\n",
    "pip2 install ipython 安装python2的 ",
    "pip3 install ipython 安装python3的\n",
    "最后shell中执行ipython或ipython3会进入不同的\n",
    "\n",
    "\n",
    "\n",
    "\n",
    "\n",
    "\n",
    "\n",
    "python -m goblin ProxyCrawlHttpRequest        上限20个\n",
    "\n",
    "\n",
    "\n"
   ]
  },
  {
   "cell_type": "code",
   "execution_count": null,
   "metadata": {},
   "outputs": [],
   "source": []
  }
 ],
 "metadata": {
  "kernelspec": {
   "display_name": "Python [conda env:pytorch] *",
   "language": "python",
   "name": "conda-env-pytorch-py"
  },
  "language_info": {
   "codemirror_mode": {
    "name": "ipython",
    "version": 3
   },
   "file_extension": ".py",
   "mimetype": "text/x-python",
   "name": "python",
   "nbconvert_exporter": "python",
   "pygments_lexer": "ipython3",
   "version": "3.7.3"
  }
 },
 "nbformat": 4,
 "nbformat_minor": 2
}
