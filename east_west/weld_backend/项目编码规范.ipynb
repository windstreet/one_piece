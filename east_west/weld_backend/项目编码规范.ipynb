{
 "cells": [
  {
   "cell_type": "markdown",
   "metadata": {},
   "source": [
    "<< 项目编码规范 >>\n",
    "\n",
    "* 浮点数处理规范\n",
    "\t原则上统一先四舍五入后求和，如有业务要求非这样计算的，请单独确认；\n",
    "\t\bPython 处理浮点数时应使用 decimal 库，\b常用四舍五入写法示例如下: \n",
    "\t\t(decimal.Decimal('100.211242') * quantity).quantize(decimal.Decimal('0.01'), rounding=decimal.ROUND_HALF_UP)\n",
    "\t\b界面预览后保存的情况，前后端都应做校验，前端将\b\b算出来的\b值传给后端，后端应做校验\b，保证两者之差的绝对值小于保留的最小位数+1位。\n",
    "    \n",
    "    \n",
    "    \n",
    "    \n",
    "\n",
    "\n",
    "\n",
    "杂碎\n",
    "\n",
    "UTC时间(2018-07-03T10:18:58.000Z)\n",
    "now = arrow.now().to('UTC').format('YYYY-MM-DDTHH:mm:ss.SSS') + 'Z'\n",
    "arrow.get(1559639295).to('UTC').format('YYYY-MM-DDTHH:mm:ss:SSS') + 'Z'\n",
    "\n"
   ]
  },
  {
   "cell_type": "code",
   "execution_count": null,
   "metadata": {},
   "outputs": [],
   "source": []
  }
 ],
 "metadata": {
  "kernelspec": {
   "display_name": "Python [conda env:pytorch] *",
   "language": "python",
   "name": "conda-env-pytorch-py"
  },
  "language_info": {
   "codemirror_mode": {
    "name": "ipython",
    "version": 3
   },
   "file_extension": ".py",
   "mimetype": "text/x-python",
   "name": "python",
   "nbconvert_exporter": "python",
   "pygments_lexer": "ipython3",
   "version": "3.7.3"
  }
 },
 "nbformat": 4,
 "nbformat_minor": 2
}
