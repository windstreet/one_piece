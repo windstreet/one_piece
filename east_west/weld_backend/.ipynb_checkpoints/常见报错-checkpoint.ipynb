{
 "cells": [
  {
   "cell_type": "markdown",
   "metadata": {},
   "source": [
    "\n",
    "报错一：\n",
    "\n",
    "```\n",
    "sqlalchemy.exc.InvalidRequestError: When initializing mapper Mapper|StockSKUBatchFlowAdjustment|stock_sku_batch_flow_adjustment, expression 'assoc_stock_warehouse_order_x_flow' failed to locate a name (\"name 'assoc_stock_warehouse_order_x_flow' is not defined\"). If this is a class name, consider adding this relationship() to the <class 'bapi.modules.stock.flows.models.StockSKUBatchFlowAdjustment'> class after both dependent classes have been defined.\n",
    "\n",
    "# 解决办法\n",
    "\n",
    "find /Users/admin/Desktop/workplace/weld_backend -name \"*.pyc\" | xargs rm -rf``` "
   ]
  },
  {
   "cell_type": "code",
   "execution_count": null,
   "metadata": {},
   "outputs": [],
   "source": []
  }
 ],
 "metadata": {
  "kernelspec": {
   "display_name": "Python [conda env:pytorch] *",
   "language": "python",
   "name": "conda-env-pytorch-py"
  },
  "language_info": {
   "codemirror_mode": {
    "name": "ipython",
    "version": 3
   },
   "file_extension": ".py",
   "mimetype": "text/x-python",
   "name": "python",
   "nbconvert_exporter": "python",
   "pygments_lexer": "ipython3",
   "version": "3.7.3"
  }
 },
 "nbformat": 4,
 "nbformat_minor": 2
}
