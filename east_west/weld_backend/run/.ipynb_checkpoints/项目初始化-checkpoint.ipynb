{
 "cells": [
  {
   "cell_type": "markdown",
   "metadata": {},
   "source": [
    "# 项目初始化\n",
    "\n",
    "## 1）启用 celery 服务\n",
    "\n",
    "### 1.1）异步任务相关\n",
    "`cd ~/Desktop/workplace/weld_backend/api`  \n",
    "`celery -A celery_app.celery worker`\n",
    "\n",
    "### 1.2）导出任务相关\n",
    "`celery -A celery_app.celery worker -Q celery.export_task`\n",
    "\n",
    "### 1.3）注意 `celey` 依赖 `rabbitmq` 和 `redis`\n",
    "\n",
    "`brew services restart rabbitmq`\n",
    "`brew services restart redis`"
   ]
  },
  {
   "cell_type": "code",
   "execution_count": null,
   "metadata": {},
   "outputs": [],
   "source": []
  }
 ],
 "metadata": {
  "kernelspec": {
   "display_name": "Python 3",
   "language": "python",
   "name": "python3"
  },
  "language_info": {
   "codemirror_mode": {
    "name": "ipython",
    "version": 3
   },
   "file_extension": ".py",
   "mimetype": "text/x-python",
   "name": "python",
   "nbconvert_exporter": "python",
   "pygments_lexer": "ipython3",
   "version": "3.7.3"
  }
 },
 "nbformat": 4,
 "nbformat_minor": 2
}
