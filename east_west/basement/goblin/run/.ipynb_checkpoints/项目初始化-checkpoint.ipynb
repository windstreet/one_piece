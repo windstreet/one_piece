{
 "cells": [
  {
   "cell_type": "markdown",
   "metadata": {},
   "source": [
    "# 项目初始化\n",
    "\n",
    "## 1）环境与依赖\n",
    "\n",
    "`conda create --name goblin python=3.7.1`  \n",
    "`python setup.py install`  # 弃用了，使用该命令会生成2个文件夹，记得删除，会影响 overlord安装goblin   \n",
    "`pip install -r requirements.txt`  # 改用\n",
    "\n",
    "\n",
    "## 2）启用消费者\n",
    "`cd ~/workplace/goblin/goblin`  \n",
    "\n",
    "`python -m goblin AsinInfoSpider`  \n",
    "`python -m goblin ProxyCrawlHttpRequest`  上限20个\n",
    "\n",
    "\n",
    "## 3）补充说明\n",
    "goblin 没有用到数据库\n"
   ]
  }
 ],
 "metadata": {
  "kernelspec": {
   "display_name": "Python 3",
   "language": "python",
   "name": "python3"
  },
  "language_info": {
   "codemirror_mode": {
    "name": "ipython",
    "version": 3
   },
   "file_extension": ".py",
   "mimetype": "text/x-python",
   "name": "python",
   "nbconvert_exporter": "python",
   "pygments_lexer": "ipython3",
   "version": "3.7.3"
  }
 },
 "nbformat": 4,
 "nbformat_minor": 2
}
