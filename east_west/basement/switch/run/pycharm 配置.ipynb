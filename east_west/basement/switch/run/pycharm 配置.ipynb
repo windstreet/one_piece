{
 "cells": [
  {
   "cell_type": "markdown",
   "metadata": {},
   "source": [
    "## 1）Run/Debug Configurations\n",
    "\n",
    "#### name: `8000`\n",
    "#### Script path: `/Users/admin/Desktop/workplace/switch/api/manage.py`\n",
    "#### parameters: `runserver -h 0.0.0.0 -p 8000`\n",
    "\n",
    "---\n",
    "\n",
    "#### Environment variables: `PYTHONUNBUFFERED=1`\n",
    "#### Python interpreter: `选择相应虚拟环境的python`\n",
    "#### Working directory: `/Users/admin/Desktop/workplace/switch/api`\n"
   ]
  }
 ],
 "metadata": {
  "kernelspec": {
   "display_name": "Python 3",
   "language": "python",
   "name": "python3"
  },
  "language_info": {
   "codemirror_mode": {
    "name": "ipython",
    "version": 3
   },
   "file_extension": ".py",
   "mimetype": "text/x-python",
   "name": "python",
   "nbconvert_exporter": "python",
   "pygments_lexer": "ipython3",
   "version": "3.7.3"
  }
 },
 "nbformat": 4,
 "nbformat_minor": 2
}
