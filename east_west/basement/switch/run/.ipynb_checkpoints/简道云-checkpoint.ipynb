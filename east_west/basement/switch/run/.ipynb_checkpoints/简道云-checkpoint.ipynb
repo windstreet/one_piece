{
 "cells": [
  {
   "cell_type": "markdown",
   "metadata": {},
   "source": [
    "# 简道云\n",
    "\n",
    "## 一、表单数据推送设置\n",
    "\n",
    "拓展功能 --> 数据推送 --> 新建数据推送 --> 服务器地址：\n",
    ">1）通知测试环境的switch：  \n",
    ">>http://cecp-test.eastwestec.com:8089/notification/jiandaoyun/index  \n",
    ">\n",
    ">2）通知本地环境的switch：\n",
    ">>将 8089 端口改为 4999 端口，  \n",
    ">>且将本机的公钥上传到测试机（过程略，```cat ~/.ssh/id_rsa.pub``` 获取公钥 ），   \n",
    ">>然后将测试环境的 4999 端口映射到本机 switch 服务器的 8000 端口：  \n",
    "```ssh -NR 0.0.0.0:4999:0.0.0.0:8000 root@114.116.23.219 -vv```\n",
    ">>\n",
    "\n",
    "其他操作：\n",
    "\n",
    "```\n",
    "ssh root@cecp-test.eastwestec.com  # 登录测试机\n",
    "lsof -i :4999  # 查看测试机的 4999 端口\n",
    "kill 27122  # 杀死 4999 端口的进程\n",
    "\n",
    "```\n"
   ]
  },
  {
   "cell_type": "code",
   "execution_count": null,
   "metadata": {},
   "outputs": [],
   "source": []
  }
 ],
 "metadata": {
  "kernelspec": {
   "display_name": "Python 3",
   "language": "python",
   "name": "python3"
  },
  "language_info": {
   "codemirror_mode": {
    "name": "ipython",
    "version": 3
   },
   "file_extension": ".py",
   "mimetype": "text/x-python",
   "name": "python",
   "nbconvert_exporter": "python",
   "pygments_lexer": "ipython3",
   "version": "3.7.3"
  }
 },
 "nbformat": 4,
 "nbformat_minor": 2
}
