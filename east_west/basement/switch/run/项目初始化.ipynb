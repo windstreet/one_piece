{
 "cells": [
  {
   "cell_type": "markdown",
   "metadata": {},
   "source": [
    "# 项目初始化\n",
    "\n",
    "## 1）启用 celery 服务\n",
    "\n",
    "### 1.1）异步任务相关\n",
    "`cd ~/Desktop/workplace/switch/api`  \n",
    "`celery -A celery_app.celery worker`\n",
    "\n",
    "## 2）简道云调试相关\n",
    "\n",
    "任意目录下  \n",
    "`ssh -NR 0.0.0.0:4999:0.0.0.0:8000 root@114.116.23.219 -vv`\n",
    "\n",
    "`ssh root@cecp-test.eastwestec.com`  \n",
    "`lsof -i:4999`  \n",
    "`kill <PID>`  "
   ]
  },
  {
   "cell_type": "code",
   "execution_count": null,
   "metadata": {},
   "outputs": [],
   "source": []
  }
 ],
 "metadata": {
  "kernelspec": {
   "display_name": "Python 3",
   "language": "python",
   "name": "python3"
  },
  "language_info": {
   "codemirror_mode": {
    "name": "ipython",
    "version": 3
   },
   "file_extension": ".py",
   "mimetype": "text/x-python",
   "name": "python",
   "nbconvert_exporter": "python",
   "pygments_lexer": "ipython3",
   "version": "3.7.3"
  }
 },
 "nbformat": 4,
 "nbformat_minor": 2
}
