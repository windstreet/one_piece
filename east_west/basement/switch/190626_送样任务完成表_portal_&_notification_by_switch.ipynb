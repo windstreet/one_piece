{
 "cells": [
  {
   "cell_type": "markdown",
   "metadata": {},
   "source": [
    "# 送样任务完成表\n",
    "\n",
    "## 1）issue\n",
    "\n",
    "[订单信息-简道云触发器](https://dev.eastwestec.com/issues/3055)\n",
    "\n",
    "## 2）分支\n",
    "\n",
    "weld_backend: `feature/3055_orders_sync`  \n",
    "switch: `feature/3055_orders_sync`  \n",
    "\n",
    "## 3）服务\n",
    "\n",
    "### 3.1）weld_backend 与 switch 服务启动\n",
    "\n",
    "### 3.2）celery\n",
    "\n",
    "weld_backend: `celery -A celery_app.celery worker`  \n",
    "switch: `celery -A celery_app.celery worker`  \n",
    "\n",
    "## 4）代码解析\n",
    "\n",
    "### 4.1）weld_backend 创建定时任务：定时触发 switch 查询 jdy《送样任务完成表》待更新数据。\n",
    "   `bapi.modules.order.tasks.timing_update_send_sample`\n",
    "   > `bapi.services.middlewares.api.jiandaoyun.order.models.Order#search_info`  # 该任务触发简道云的接口  \n",
    "   > `bapi.services.middlewares.client.JiandaoyunMixClient` 的 `order` 类属性注册上述的接口\n",
    "   \n",
    "### 4.2）switch 创建 portal 接口：响应查询简道云 并 将待更新数据 post 至 cecp 接口。  \n",
    "   `mapi.modules.portal.jiandaoyun.order.views.search_send_sample_task`\n",
    "\n",
    "### 4.3）weld_backend 创建 view 接口：响应查询 order 表单相关数据 并 触发 switch 更新 jdy。 \n",
    "   `bapi.modules.order.views.OrderAPIView#send_sample`\n",
    "\n",
    "### 4.4）switch 创建 portal 接口：更新 jdy《送样任务完成表》。\n",
    "   `mapi.modules.portal.jiandaoyun.order.views.sync_send_sample_task`\n",
    "\n",
    "## 5）测试\n",
    "\n",
    "cecp / switch 可开启 debug 模式。\n",
    "\n",
    "#### 方式一、jdy 《送样任务完成表》新建行项目，订单号必填；cecp 手动发起同步请求。\n",
    "\n",
    "```python \n",
    "from bapi.modules.order.tasks import timing_update_send_sample\n",
    "timing_update_send_sample()\n",
    "```"
   ]
  },
  {
   "cell_type": "markdown",
   "metadata": {},
   "source": [
    "---\n",
    "\n",
    "# 2019.07.18 第一次优化\n",
    "\n",
    "## 1）创建待导入的测试数据\n",
    "\n",
    "```python\n",
    "for obj in Order.query.yield_per(100):\n",
    "\ti += 1\n",
    "\tprint obj.platform_order_number\n",
    "\tif i > 300:\n",
    "\t\tbreak\n",
    "```\n",
    "\n",
    "- 复制黏贴 至 《送样任务完成表_测试环境-数据模板.xlsx》'订单号' 字段，注意：'重置条件-按日重置' 字段必填。\n"
   ]
  },
  {
   "cell_type": "code",
   "execution_count": null,
   "metadata": {},
   "outputs": [],
   "source": []
  }
 ],
 "metadata": {
  "kernelspec": {
   "display_name": "Python 3",
   "language": "python",
   "name": "python3"
  },
  "language_info": {
   "codemirror_mode": {
    "name": "ipython",
    "version": 3
   },
   "file_extension": ".py",
   "mimetype": "text/x-python",
   "name": "python",
   "nbconvert_exporter": "python",
   "pygments_lexer": "ipython3",
   "version": "3.7.3"
  }
 },
 "nbformat": 4,
 "nbformat_minor": 2
}
