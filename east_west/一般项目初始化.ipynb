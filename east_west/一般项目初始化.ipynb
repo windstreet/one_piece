{
 "cells": [
  {
   "cell_type": "markdown",
   "metadata": {},
   "source": [
    "一般项目初始化\n",
    "\n",
    "* 虚拟环境\n",
    "\thttps://www.jianshu.com/p/44ab75fbaef2\n",
    "\n",
    "    * 创建基本环境：mkvirtualenv [环境名]\n",
    "    * 删除环境：rmvirtualenv [环境名]\n",
    "    * 激活环境：workon [环境名]\n",
    "    * 退出环境：deactivate\n",
    "    * 列出所有环境：workon 或者 lsvirtualenv -b\n",
    "\n",
    "* 依赖安装\n",
    "    * 安装：pip install -r requirements.txt\n",
    "    * 导出：pip freeze > requirements.txt\n"
   ]
  },
  {
   "cell_type": "code",
   "execution_count": null,
   "metadata": {},
   "outputs": [],
   "source": []
  }
 ],
 "metadata": {
  "kernelspec": {
   "display_name": "Python [conda env:pytorch] *",
   "language": "python",
   "name": "conda-env-pytorch-py"
  },
  "language_info": {
   "codemirror_mode": {
    "name": "ipython",
    "version": 3
   },
   "file_extension": ".py",
   "mimetype": "text/x-python",
   "name": "python",
   "nbconvert_exporter": "python",
   "pygments_lexer": "ipython3",
   "version": "3.7.3"
  }
 },
 "nbformat": 4,
 "nbformat_minor": 2
}
