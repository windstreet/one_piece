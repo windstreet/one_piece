{
 "cells": [
  {
   "cell_type": "markdown",
   "metadata": {},
   "source": [
    "# rabbitmq\n",
    "\n",
    "安装目录【公司】：  `cd /usr/local/Cellar/rabbitmq/3.7.2/sbin`        \n",
    "\n",
    "## 基本上使用 brew 安装的软件包都安装在 /usr/local/Cellar \n",
    "\n",
    "`brew info rabbitmq` 查看安装信息\n",
    "\n",
    "4.打开网址：http://localhost:15672/    初始账号密码都是guest\n"
   ]
  },
  {
   "cell_type": "code",
   "execution_count": null,
   "metadata": {},
   "outputs": [],
   "source": []
  }
 ],
 "metadata": {
  "kernelspec": {
   "display_name": "Python [conda env:pytorch] *",
   "language": "python",
   "name": "conda-env-pytorch-py"
  },
  "language_info": {
   "codemirror_mode": {
    "name": "ipython",
    "version": 3
   },
   "file_extension": ".py",
   "mimetype": "text/x-python",
   "name": "python",
   "nbconvert_exporter": "python",
   "pygments_lexer": "ipython3",
   "version": "3.7.3"
  }
 },
 "nbformat": 4,
 "nbformat_minor": 2
}
