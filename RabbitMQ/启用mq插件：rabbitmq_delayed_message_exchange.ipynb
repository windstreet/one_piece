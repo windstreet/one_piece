{
 "cells": [
  {
   "cell_type": "markdown",
   "metadata": {},
   "source": [
    "# 步骤\n",
    "\n",
    "### 1）将解压后的插件放入mq的插件目录\n",
    "\n",
    "解压前：rabbitmq_delayed_message_exchange-20171201-3.7.x.zip   \n",
    "解压后：rabbitmq_delayed_message_exchange-20171201-3.7.x.ez  \n",
    "插件目录：`/usr/local/Cellar/rabbitmq/3.7.16/plugins`\n",
    "\n",
    "#### 注意：\n",
    "该插件我的谷歌网盘上有。  \n",
    "我的 rabbitmq 是通过 brew 安装的，使用 `brew info rabbitmq` 再加上 `/plugins`就是插件的目录  \n",
    "\n",
    "\n",
    "### 2）进入指定目录激活插件\n",
    "\n",
    "`cd /usr/local/Cellar/rabbitmq/3.7.16/sbin`  \n",
    "`rabbitmq-plugins enable rabbitmq_delayed_message_exchange`\n",
    "\n",
    "输出：\n",
    "```\n",
    "(base) ➜  sbin rabbitmq-plugins enable rabbitmq_delayed_message_exchange\n",
    "Enabling plugins on node rabbit@localhost:\n",
    "rabbitmq_delayed_message_exchange\n",
    "The following plugins have been configured:\n",
    "  rabbitmq_amqp1_0\n",
    "  rabbitmq_delayed_message_exchange\n",
    "  rabbitmq_management\n",
    "  rabbitmq_management_agent\n",
    "  rabbitmq_mqtt\n",
    "  rabbitmq_stomp\n",
    "  rabbitmq_web_dispatch\n",
    "Applying plugin configuration to rabbit@localhost...\n",
    "The following plugins have been enabled:\n",
    "  rabbitmq_delayed_message_exchange\n",
    "\n",
    "started 1 plugins.\n",
    "(base) ➜  sbin\n",
    "```\n",
    "\n",
    "### 3）常见问题\n",
    "\n",
    "#### 3.1）`zsh: command not found: rabbitmq-plugins`\n",
    "原因：未将 mq 的路径（`/usr/local/sbin`）添加到 shell 里，导致识别不到 `rabbitmq-plugins` 这个命令。\n",
    "\n",
    "```\n",
    "操作如下：\n",
    "vim ~/.zshrc\n",
    "# export PATH=\"/Users/linrenwei/miniconda3/bin:/usr/local/sbin:$PATH\"          # $\n",
    "source ~/.zshrc\n",
    "```\n",
    "\n",
    "#### 3.2）假设你的mq版本太低\n",
    "\n",
    "参考： https://stackoverflow.com/questions/49071667/cant-enable-plugin-in-rabbitmq-3-7-3  \n",
    "\n",
    "原因：`rabbitmq_management_visualiser` 这个插件已经停止服务，不再维护。   \n",
    "解决办法：`vim /usr/local/etc/rabbitmq/enabled_plugins`\t# 将 rabbitmq_management_visualiser 项删除即可。\n",
    "\n"
   ]
  }
 ],
 "metadata": {
  "kernelspec": {
   "display_name": "Python 3",
   "language": "python",
   "name": "python3"
  },
  "language_info": {
   "codemirror_mode": {
    "name": "ipython",
    "version": 3
   },
   "file_extension": ".py",
   "mimetype": "text/x-python",
   "name": "python",
   "nbconvert_exporter": "python",
   "pygments_lexer": "ipython3",
   "version": "3.7.3"
  }
 },
 "nbformat": 4,
 "nbformat_minor": 2
}
