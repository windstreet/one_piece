{
 "cells": [
  {
   "cell_type": "markdown",
   "metadata": {},
   "source": [
    "# rabbitmq 安装与基本用法\n",
    "\n",
    "## 1）安装\n",
    "brew install rabbitmq\n",
    "\n",
    "## 2）安装信息\n",
    "brew info rabbitmq\n",
    "\n",
    "Homebrew 安装的 RabbitMQ 在 `/usr/local/sbin` 目录下\n",
    "\n",
    "## 3）添加路径\n",
    "\n",
    "假设你用的也是 `zsh`\n",
    "\n",
    "`vim ~/.zshrc`\n",
    ">添加如下这句：  \n",
    ">PATH=$PATH:/usr/local/sbin  \n",
    "\n",
    "$\n",
    "`source ~/.zshrc`\n",
    "\n",
    "\n",
    "## 3）启动\n",
    "brew services restart rabbitmq\n",
    "\n",
    "## 4）admin\n",
    "[初始账号密码都是 guest](http://localhost:15672/)\n",
    "\n",
    "---\n",
    "\n",
    "[参考](https://chacojack.github.io/2017/12/18/RabbitMQ-Mac-%E5%AE%89%E8%A3%85/)\n"
   ]
  }
 ],
 "metadata": {
  "kernelspec": {
   "display_name": "Python 3",
   "language": "python",
   "name": "python3"
  },
  "language_info": {
   "codemirror_mode": {
    "name": "ipython",
    "version": 3
   },
   "file_extension": ".py",
   "mimetype": "text/x-python",
   "name": "python",
   "nbconvert_exporter": "python",
   "pygments_lexer": "ipython3",
   "version": "3.7.3"
  }
 },
 "nbformat": 4,
 "nbformat_minor": 2
}
